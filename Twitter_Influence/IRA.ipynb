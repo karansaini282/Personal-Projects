{
 "cells": [
  {
   "cell_type": "code",
   "execution_count": 3,
   "metadata": {},
   "outputs": [
    {
     "name": "stderr",
     "output_type": "stream",
     "text": [
      "[nltk_data] Downloading package punkt to\n",
      "[nltk_data]     C:\\Users\\karan\\AppData\\Roaming\\nltk_data...\n",
      "[nltk_data]   Package punkt is already up-to-date!\n"
     ]
    },
    {
     "data": {
      "text/plain": [
       "True"
      ]
     },
     "execution_count": 3,
     "metadata": {},
     "output_type": "execute_result"
    }
   ],
   "source": [
    "import pandas as pd\n",
    "import nltk\n",
    "import re\n",
    "import pickle\n",
    "from sklearn.feature_extraction.text import TfidfVectorizer, ENGLISH_STOP_WORDS\n",
    "from sklearn.cluster import KMeans\n",
    "from sklearn.metrics import adjusted_rand_score\n",
    "pd.set_option('display.max_columns', 500)\n",
    "pd.set_option('display.max_colwidth', 100)\n",
    "nltk.download('punkt')"
   ]
  },
  {
   "cell_type": "code",
   "execution_count": 43,
   "metadata": {},
   "outputs": [],
   "source": [
    "def tokenize_tweet(tweet):\n",
    "    tokens = [word.lower() for sent in nltk.sent_tokenize(tweet) for word in nltk.word_tokenize(sent)]\n",
    "    filtered_tokens = []\n",
    "    for token in tokens:\n",
    "        if re.search('[a-zA-Z]', token):\n",
    "            if token not in ['http','https','rt']:\n",
    "                filtered_tokens.append(token)\n",
    "    return filtered_tokens"
   ]
  },
  {
   "cell_type": "code",
   "execution_count": 2,
   "metadata": {},
   "outputs": [],
   "source": [
    "df = pd.read_csv('iranian_tweets_csv_hashed.csv')"
   ]
  },
  {
   "cell_type": "code",
   "execution_count": 6,
   "metadata": {},
   "outputs": [
    {
     "data": {
      "text/html": [
       "<div>\n",
       "<style scoped>\n",
       "    .dataframe tbody tr th:only-of-type {\n",
       "        vertical-align: middle;\n",
       "    }\n",
       "\n",
       "    .dataframe tbody tr th {\n",
       "        vertical-align: top;\n",
       "    }\n",
       "\n",
       "    .dataframe thead th {\n",
       "        text-align: right;\n",
       "    }\n",
       "</style>\n",
       "<table border=\"1\" class=\"dataframe\">\n",
       "  <thead>\n",
       "    <tr style=\"text-align: right;\">\n",
       "      <th></th>\n",
       "      <th>tweetid</th>\n",
       "      <th>userid</th>\n",
       "      <th>user_display_name</th>\n",
       "      <th>user_screen_name</th>\n",
       "      <th>user_reported_location</th>\n",
       "      <th>user_profile_description</th>\n",
       "      <th>user_profile_url</th>\n",
       "      <th>follower_count</th>\n",
       "      <th>following_count</th>\n",
       "      <th>account_creation_date</th>\n",
       "      <th>account_language</th>\n",
       "      <th>tweet_language</th>\n",
       "      <th>tweet_text</th>\n",
       "      <th>tweet_time</th>\n",
       "      <th>tweet_client_name</th>\n",
       "      <th>in_reply_to_tweetid</th>\n",
       "      <th>in_reply_to_userid</th>\n",
       "      <th>quoted_tweet_tweetid</th>\n",
       "      <th>is_retweet</th>\n",
       "      <th>retweet_userid</th>\n",
       "      <th>retweet_tweetid</th>\n",
       "      <th>latitude</th>\n",
       "      <th>longitude</th>\n",
       "      <th>quote_count</th>\n",
       "      <th>reply_count</th>\n",
       "      <th>like_count</th>\n",
       "      <th>retweet_count</th>\n",
       "      <th>hashtags</th>\n",
       "      <th>urls</th>\n",
       "      <th>user_mentions</th>\n",
       "      <th>poll_choices</th>\n",
       "    </tr>\n",
       "  </thead>\n",
       "  <tbody>\n",
       "    <tr>\n",
       "      <th>0</th>\n",
       "      <td>533622371429543936</td>\n",
       "      <td>299148448</td>\n",
       "      <td>Maria Luis</td>\n",
       "      <td>marialuis91</td>\n",
       "      <td>Nantes, France</td>\n",
       "      <td>journaliste indépendante/un vrai journaliste e...</td>\n",
       "      <td>NaN</td>\n",
       "      <td>8012</td>\n",
       "      <td>1450</td>\n",
       "      <td>2011-05-15</td>\n",
       "      <td>en</td>\n",
       "      <td>fr</td>\n",
       "      <td>@bellisarobz Ces photos illustrent parfaitemen...</td>\n",
       "      <td>2014-11-15 14:07</td>\n",
       "      <td>Twitter Web Client</td>\n",
       "      <td>5.336216e+17</td>\n",
       "      <td>574356455</td>\n",
       "      <td>NaN</td>\n",
       "      <td>False</td>\n",
       "      <td>NaN</td>\n",
       "      <td>NaN</td>\n",
       "      <td>NaN</td>\n",
       "      <td>NaN</td>\n",
       "      <td>0.0</td>\n",
       "      <td>0.0</td>\n",
       "      <td>0.0</td>\n",
       "      <td>0.0</td>\n",
       "      <td>NaN</td>\n",
       "      <td>[http://fr.awdnews.com/divertissements/5757-ce...</td>\n",
       "      <td>[574356455]</td>\n",
       "      <td>NaN</td>\n",
       "    </tr>\n",
       "    <tr>\n",
       "      <th>1</th>\n",
       "      <td>527205814906654721</td>\n",
       "      <td>299148448</td>\n",
       "      <td>Maria Luis</td>\n",
       "      <td>marialuis91</td>\n",
       "      <td>Nantes, France</td>\n",
       "      <td>journaliste indépendante/un vrai journaliste e...</td>\n",
       "      <td>NaN</td>\n",
       "      <td>8012</td>\n",
       "      <td>1450</td>\n",
       "      <td>2011-05-15</td>\n",
       "      <td>en</td>\n",
       "      <td>en</td>\n",
       "      <td>@ParkerLampe An inquiry by congress confirms t...</td>\n",
       "      <td>2014-10-28 21:10</td>\n",
       "      <td>Twitter Web Client</td>\n",
       "      <td>5.272054e+17</td>\n",
       "      <td>438542436</td>\n",
       "      <td>NaN</td>\n",
       "      <td>False</td>\n",
       "      <td>NaN</td>\n",
       "      <td>NaN</td>\n",
       "      <td>NaN</td>\n",
       "      <td>NaN</td>\n",
       "      <td>0.0</td>\n",
       "      <td>0.0</td>\n",
       "      <td>0.0</td>\n",
       "      <td>0.0</td>\n",
       "      <td>NaN</td>\n",
       "      <td>[http://www.awdnews.com/top-news/10080-an-inqu...</td>\n",
       "      <td>[438542436]</td>\n",
       "      <td>NaN</td>\n",
       "    </tr>\n",
       "    <tr>\n",
       "      <th>2</th>\n",
       "      <td>545166827350134784</td>\n",
       "      <td>299148448</td>\n",
       "      <td>Maria Luis</td>\n",
       "      <td>marialuis91</td>\n",
       "      <td>Nantes, France</td>\n",
       "      <td>journaliste indépendante/un vrai journaliste e...</td>\n",
       "      <td>NaN</td>\n",
       "      <td>8012</td>\n",
       "      <td>1450</td>\n",
       "      <td>2011-05-15</td>\n",
       "      <td>en</td>\n",
       "      <td>en</td>\n",
       "      <td>@hadeelhmaidi @wordpressdotcom CIA predict thi...</td>\n",
       "      <td>2014-12-17 10:41</td>\n",
       "      <td>Twitter Web Client</td>\n",
       "      <td>5.451665e+17</td>\n",
       "      <td>256625456</td>\n",
       "      <td>NaN</td>\n",
       "      <td>False</td>\n",
       "      <td>NaN</td>\n",
       "      <td>NaN</td>\n",
       "      <td>NaN</td>\n",
       "      <td>NaN</td>\n",
       "      <td>0.0</td>\n",
       "      <td>0.0</td>\n",
       "      <td>0.0</td>\n",
       "      <td>0.0</td>\n",
       "      <td>NaN</td>\n",
       "      <td>[http://www.awdnews.com/political/10404-cia-pr...</td>\n",
       "      <td>[823905, 256625456]</td>\n",
       "      <td>NaN</td>\n",
       "    </tr>\n",
       "    <tr>\n",
       "      <th>3</th>\n",
       "      <td>538045437316321280</td>\n",
       "      <td>299148448</td>\n",
       "      <td>Maria Luis</td>\n",
       "      <td>marialuis91</td>\n",
       "      <td>Nantes, France</td>\n",
       "      <td>journaliste indépendante/un vrai journaliste e...</td>\n",
       "      <td>NaN</td>\n",
       "      <td>8012</td>\n",
       "      <td>1450</td>\n",
       "      <td>2011-05-15</td>\n",
       "      <td>en</td>\n",
       "      <td>fr</td>\n",
       "      <td>@MartinYannis l'avis bizarre de marcel tonton ...</td>\n",
       "      <td>2014-11-27 19:03</td>\n",
       "      <td>Twitter Web Client</td>\n",
       "      <td>5.380451e+17</td>\n",
       "      <td>919513172</td>\n",
       "      <td>NaN</td>\n",
       "      <td>False</td>\n",
       "      <td>NaN</td>\n",
       "      <td>NaN</td>\n",
       "      <td>NaN</td>\n",
       "      <td>NaN</td>\n",
       "      <td>0.0</td>\n",
       "      <td>0.0</td>\n",
       "      <td>0.0</td>\n",
       "      <td>0.0</td>\n",
       "      <td>NaN</td>\n",
       "      <td>[http://fr.awdnews.com/divertissements/5796-to...</td>\n",
       "      <td>[919513172]</td>\n",
       "      <td>NaN</td>\n",
       "    </tr>\n",
       "    <tr>\n",
       "      <th>4</th>\n",
       "      <td>530053681668841472</td>\n",
       "      <td>299148448</td>\n",
       "      <td>Maria Luis</td>\n",
       "      <td>marialuis91</td>\n",
       "      <td>Nantes, France</td>\n",
       "      <td>journaliste indépendante/un vrai journaliste e...</td>\n",
       "      <td>NaN</td>\n",
       "      <td>8012</td>\n",
       "      <td>1450</td>\n",
       "      <td>2011-05-15</td>\n",
       "      <td>en</td>\n",
       "      <td>fr</td>\n",
       "      <td>@courrierinter Les laboratoires US de guerre b...</td>\n",
       "      <td>2014-11-05 17:47</td>\n",
       "      <td>Twitter Web Client</td>\n",
       "      <td>5.300444e+17</td>\n",
       "      <td>83864876</td>\n",
       "      <td>NaN</td>\n",
       "      <td>False</td>\n",
       "      <td>NaN</td>\n",
       "      <td>NaN</td>\n",
       "      <td>NaN</td>\n",
       "      <td>NaN</td>\n",
       "      <td>0.0</td>\n",
       "      <td>0.0</td>\n",
       "      <td>1.0</td>\n",
       "      <td>2.0</td>\n",
       "      <td>NaN</td>\n",
       "      <td>[http://fr.awdnews.com/soci%C3%A9t%C3%A9/5723-...</td>\n",
       "      <td>[83864876]</td>\n",
       "      <td>NaN</td>\n",
       "    </tr>\n",
       "  </tbody>\n",
       "</table>\n",
       "</div>"
      ],
      "text/plain": [
       "              tweetid     userid user_display_name user_screen_name  \\\n",
       "0  533622371429543936  299148448        Maria Luis      marialuis91   \n",
       "1  527205814906654721  299148448        Maria Luis      marialuis91   \n",
       "2  545166827350134784  299148448        Maria Luis      marialuis91   \n",
       "3  538045437316321280  299148448        Maria Luis      marialuis91   \n",
       "4  530053681668841472  299148448        Maria Luis      marialuis91   \n",
       "\n",
       "  user_reported_location                           user_profile_description  \\\n",
       "0         Nantes, France  journaliste indépendante/un vrai journaliste e...   \n",
       "1         Nantes, France  journaliste indépendante/un vrai journaliste e...   \n",
       "2         Nantes, France  journaliste indépendante/un vrai journaliste e...   \n",
       "3         Nantes, France  journaliste indépendante/un vrai journaliste e...   \n",
       "4         Nantes, France  journaliste indépendante/un vrai journaliste e...   \n",
       "\n",
       "  user_profile_url  follower_count  following_count account_creation_date  \\\n",
       "0              NaN            8012             1450            2011-05-15   \n",
       "1              NaN            8012             1450            2011-05-15   \n",
       "2              NaN            8012             1450            2011-05-15   \n",
       "3              NaN            8012             1450            2011-05-15   \n",
       "4              NaN            8012             1450            2011-05-15   \n",
       "\n",
       "  account_language tweet_language  \\\n",
       "0               en             fr   \n",
       "1               en             en   \n",
       "2               en             en   \n",
       "3               en             fr   \n",
       "4               en             fr   \n",
       "\n",
       "                                          tweet_text        tweet_time  \\\n",
       "0  @bellisarobz Ces photos illustrent parfaitemen...  2014-11-15 14:07   \n",
       "1  @ParkerLampe An inquiry by congress confirms t...  2014-10-28 21:10   \n",
       "2  @hadeelhmaidi @wordpressdotcom CIA predict thi...  2014-12-17 10:41   \n",
       "3  @MartinYannis l'avis bizarre de marcel tonton ...  2014-11-27 19:03   \n",
       "4  @courrierinter Les laboratoires US de guerre b...  2014-11-05 17:47   \n",
       "\n",
       "    tweet_client_name  in_reply_to_tweetid in_reply_to_userid  \\\n",
       "0  Twitter Web Client         5.336216e+17          574356455   \n",
       "1  Twitter Web Client         5.272054e+17          438542436   \n",
       "2  Twitter Web Client         5.451665e+17          256625456   \n",
       "3  Twitter Web Client         5.380451e+17          919513172   \n",
       "4  Twitter Web Client         5.300444e+17           83864876   \n",
       "\n",
       "   quoted_tweet_tweetid  is_retweet retweet_userid  retweet_tweetid  latitude  \\\n",
       "0                   NaN       False            NaN              NaN       NaN   \n",
       "1                   NaN       False            NaN              NaN       NaN   \n",
       "2                   NaN       False            NaN              NaN       NaN   \n",
       "3                   NaN       False            NaN              NaN       NaN   \n",
       "4                   NaN       False            NaN              NaN       NaN   \n",
       "\n",
       "   longitude  quote_count  reply_count  like_count  retweet_count hashtags  \\\n",
       "0        NaN          0.0          0.0         0.0            0.0      NaN   \n",
       "1        NaN          0.0          0.0         0.0            0.0      NaN   \n",
       "2        NaN          0.0          0.0         0.0            0.0      NaN   \n",
       "3        NaN          0.0          0.0         0.0            0.0      NaN   \n",
       "4        NaN          0.0          0.0         1.0            2.0      NaN   \n",
       "\n",
       "                                                urls        user_mentions  \\\n",
       "0  [http://fr.awdnews.com/divertissements/5757-ce...          [574356455]   \n",
       "1  [http://www.awdnews.com/top-news/10080-an-inqu...          [438542436]   \n",
       "2  [http://www.awdnews.com/political/10404-cia-pr...  [823905, 256625456]   \n",
       "3  [http://fr.awdnews.com/divertissements/5796-to...          [919513172]   \n",
       "4  [http://fr.awdnews.com/soci%C3%A9t%C3%A9/5723-...           [83864876]   \n",
       "\n",
       "  poll_choices  \n",
       "0          NaN  \n",
       "1          NaN  \n",
       "2          NaN  \n",
       "3          NaN  \n",
       "4          NaN  "
      ]
     },
     "execution_count": 6,
     "metadata": {},
     "output_type": "execute_result"
    }
   ],
   "source": [
    "df.head()"
   ]
  },
  {
   "cell_type": "code",
   "execution_count": 7,
   "metadata": {},
   "outputs": [],
   "source": [
    "columns = [col for col in df.columns if col not in [\"userid\",\"follower_count\",\"tweet_language\",\"tweet_text\",\"tweet_time\",\"like_count\"]]\n",
    "df.drop(columns=columns,inplace=True)"
   ]
  },
  {
   "cell_type": "code",
   "execution_count": 8,
   "metadata": {},
   "outputs": [
    {
     "data": {
      "text/html": [
       "<div>\n",
       "<style scoped>\n",
       "    .dataframe tbody tr th:only-of-type {\n",
       "        vertical-align: middle;\n",
       "    }\n",
       "\n",
       "    .dataframe tbody tr th {\n",
       "        vertical-align: top;\n",
       "    }\n",
       "\n",
       "    .dataframe thead th {\n",
       "        text-align: right;\n",
       "    }\n",
       "</style>\n",
       "<table border=\"1\" class=\"dataframe\">\n",
       "  <thead>\n",
       "    <tr style=\"text-align: right;\">\n",
       "      <th></th>\n",
       "      <th>userid</th>\n",
       "      <th>follower_count</th>\n",
       "      <th>tweet_language</th>\n",
       "      <th>tweet_text</th>\n",
       "      <th>tweet_time</th>\n",
       "      <th>like_count</th>\n",
       "    </tr>\n",
       "  </thead>\n",
       "  <tbody>\n",
       "    <tr>\n",
       "      <th>0</th>\n",
       "      <td>299148448</td>\n",
       "      <td>8012</td>\n",
       "      <td>fr</td>\n",
       "      <td>@bellisarobz Ces photos illustrent parfaitemen...</td>\n",
       "      <td>2014-11-15 14:07</td>\n",
       "      <td>0.0</td>\n",
       "    </tr>\n",
       "    <tr>\n",
       "      <th>1</th>\n",
       "      <td>299148448</td>\n",
       "      <td>8012</td>\n",
       "      <td>en</td>\n",
       "      <td>@ParkerLampe An inquiry by congress confirms t...</td>\n",
       "      <td>2014-10-28 21:10</td>\n",
       "      <td>0.0</td>\n",
       "    </tr>\n",
       "    <tr>\n",
       "      <th>2</th>\n",
       "      <td>299148448</td>\n",
       "      <td>8012</td>\n",
       "      <td>en</td>\n",
       "      <td>@hadeelhmaidi @wordpressdotcom CIA predict thi...</td>\n",
       "      <td>2014-12-17 10:41</td>\n",
       "      <td>0.0</td>\n",
       "    </tr>\n",
       "    <tr>\n",
       "      <th>3</th>\n",
       "      <td>299148448</td>\n",
       "      <td>8012</td>\n",
       "      <td>fr</td>\n",
       "      <td>@MartinYannis l'avis bizarre de marcel tonton ...</td>\n",
       "      <td>2014-11-27 19:03</td>\n",
       "      <td>0.0</td>\n",
       "    </tr>\n",
       "    <tr>\n",
       "      <th>4</th>\n",
       "      <td>299148448</td>\n",
       "      <td>8012</td>\n",
       "      <td>fr</td>\n",
       "      <td>@courrierinter Les laboratoires US de guerre b...</td>\n",
       "      <td>2014-11-05 17:47</td>\n",
       "      <td>1.0</td>\n",
       "    </tr>\n",
       "  </tbody>\n",
       "</table>\n",
       "</div>"
      ],
      "text/plain": [
       "      userid  follower_count tweet_language  \\\n",
       "0  299148448            8012             fr   \n",
       "1  299148448            8012             en   \n",
       "2  299148448            8012             en   \n",
       "3  299148448            8012             fr   \n",
       "4  299148448            8012             fr   \n",
       "\n",
       "                                          tweet_text        tweet_time  \\\n",
       "0  @bellisarobz Ces photos illustrent parfaitemen...  2014-11-15 14:07   \n",
       "1  @ParkerLampe An inquiry by congress confirms t...  2014-10-28 21:10   \n",
       "2  @hadeelhmaidi @wordpressdotcom CIA predict thi...  2014-12-17 10:41   \n",
       "3  @MartinYannis l'avis bizarre de marcel tonton ...  2014-11-27 19:03   \n",
       "4  @courrierinter Les laboratoires US de guerre b...  2014-11-05 17:47   \n",
       "\n",
       "   like_count  \n",
       "0         0.0  \n",
       "1         0.0  \n",
       "2         0.0  \n",
       "3         0.0  \n",
       "4         1.0  "
      ]
     },
     "execution_count": 8,
     "metadata": {},
     "output_type": "execute_result"
    }
   ],
   "source": [
    "df.head()"
   ]
  },
  {
   "cell_type": "code",
   "execution_count": 9,
   "metadata": {},
   "outputs": [
    {
     "data": {
      "text/plain": [
       "(1122936, 6)"
      ]
     },
     "execution_count": 9,
     "metadata": {},
     "output_type": "execute_result"
    }
   ],
   "source": [
    "df.shape"
   ]
  },
  {
   "cell_type": "code",
   "execution_count": 10,
   "metadata": {},
   "outputs": [],
   "source": [
    "df = df[df[\"tweet_language\"]==\"en\"]"
   ]
  },
  {
   "cell_type": "code",
   "execution_count": 11,
   "metadata": {},
   "outputs": [
    {
     "data": {
      "text/plain": [
       "(276946, 6)"
      ]
     },
     "execution_count": 11,
     "metadata": {},
     "output_type": "execute_result"
    }
   ],
   "source": [
    "df.shape"
   ]
  },
  {
   "cell_type": "code",
   "execution_count": 12,
   "metadata": {},
   "outputs": [],
   "source": [
    "df['tweet_time'] = pd.to_datetime(df['tweet_time'])"
   ]
  },
  {
   "cell_type": "code",
   "execution_count": 52,
   "metadata": {},
   "outputs": [],
   "source": [
    "vectorizer = TfidfVectorizer(stop_words=ENGLISH_STOP_WORDS.union([\"rt\",\"http\",\"https\"]))\n",
    "features = vectorizer.fit_transform(df[\"tweet_text\"])"
   ]
  },
  {
   "cell_type": "code",
   "execution_count": 53,
   "metadata": {},
   "outputs": [
    {
     "data": {
      "text/plain": [
       "KMeans(algorithm='auto', copy_x=True, init='k-means++', max_iter=200,\n",
       "    n_clusters=4, n_init=5, n_jobs=1, precompute_distances='auto',\n",
       "    random_state=None, tol=0.0001, verbose=0)"
      ]
     },
     "execution_count": 53,
     "metadata": {},
     "output_type": "execute_result"
    }
   ],
   "source": [
    "model = KMeans(n_clusters=4, init='k-means++', max_iter=200, n_init=5)\n",
    "model.fit(features)"
   ]
  },
  {
   "cell_type": "code",
   "execution_count": null,
   "metadata": {},
   "outputs": [],
   "source": [
    "print(\"Top terms per cluster:\")\n",
    "order_centroids = model.cluster_centers_.argsort()[:, ::-1]\n",
    "terms = vectorizer.get_feature_names()\n",
    "for i in range(4):\n",
    "    print(\"Cluster %d:\" % i),\n",
    "    for ind in order_centroids[i, :10]:\n",
    "        print(' %s' % terms[ind]),"
   ]
  },
  {
   "cell_type": "code",
   "execution_count": 68,
   "metadata": {},
   "outputs": [],
   "source": [
    "df['cluster'] = model.labels_.tolist()"
   ]
  },
  {
   "cell_type": "code",
   "execution_count": 26,
   "metadata": {},
   "outputs": [
    {
     "name": "stderr",
     "output_type": "stream",
     "text": [
      "c:\\users\\student\\appdata\\local\\programs\\python\\python36\\lib\\site-packages\\IPython\\core\\interactiveshell.py:2728: DtypeWarning: Columns (29) have mixed types. Specify dtype option on import or set low_memory=False.\n",
      "  interactivity=interactivity, compiler=compiler, result=result)\n"
     ]
    }
   ],
   "source": [
    "df2 = pd.read_csv('russian_201901_1_tweets_csv_hashed.csv')"
   ]
  },
  {
   "cell_type": "code",
   "execution_count": 29,
   "metadata": {},
   "outputs": [],
   "source": [
    "columns2 = [col for col in df2.columns if col not in [\"userid\",\"follower_count\",\"account_language\",\"tweet_text\",\"tweet_time\",\"like_count\"]]\n",
    "df2.drop(columns=columns2,inplace=True)"
   ]
  },
  {
   "cell_type": "code",
   "execution_count": 30,
   "metadata": {},
   "outputs": [
    {
     "data": {
      "text/html": [
       "<div>\n",
       "<style scoped>\n",
       "    .dataframe tbody tr th:only-of-type {\n",
       "        vertical-align: middle;\n",
       "    }\n",
       "\n",
       "    .dataframe tbody tr th {\n",
       "        vertical-align: top;\n",
       "    }\n",
       "\n",
       "    .dataframe thead th {\n",
       "        text-align: right;\n",
       "    }\n",
       "</style>\n",
       "<table border=\"1\" class=\"dataframe\">\n",
       "  <thead>\n",
       "    <tr style=\"text-align: right;\">\n",
       "      <th></th>\n",
       "      <th>userid</th>\n",
       "      <th>follower_count</th>\n",
       "      <th>account_language</th>\n",
       "      <th>tweet_text</th>\n",
       "      <th>tweet_time</th>\n",
       "      <th>like_count</th>\n",
       "    </tr>\n",
       "  </thead>\n",
       "  <tbody>\n",
       "    <tr>\n",
       "      <th>0</th>\n",
       "      <td>2980186012</td>\n",
       "      <td>8685</td>\n",
       "      <td>en</td>\n",
       "      <td>RT @AmyMek: Meanwhile in New York City....\\n\\n...</td>\n",
       "      <td>2017-02-28 07:30</td>\n",
       "      <td>0.0</td>\n",
       "    </tr>\n",
       "    <tr>\n",
       "      <th>1</th>\n",
       "      <td>2980186012</td>\n",
       "      <td>8685</td>\n",
       "      <td>en</td>\n",
       "      <td>RT @bean3ie: Yazidis have suffered 74 genocide...</td>\n",
       "      <td>2017-01-29 09:03</td>\n",
       "      <td>0.0</td>\n",
       "    </tr>\n",
       "    <tr>\n",
       "      <th>2</th>\n",
       "      <td>2980186012</td>\n",
       "      <td>8685</td>\n",
       "      <td>en</td>\n",
       "      <td>RT @Johnatsrs1949: RETWEET THIS IF YOU ARE ON ...</td>\n",
       "      <td>2015-12-20 07:51</td>\n",
       "      <td>0.0</td>\n",
       "    </tr>\n",
       "    <tr>\n",
       "      <th>3</th>\n",
       "      <td>2980186012</td>\n",
       "      <td>8685</td>\n",
       "      <td>en</td>\n",
       "      <td>RT @Truthdig: New Emails Confirm @HillaryClint...</td>\n",
       "      <td>2016-06-05 00:03</td>\n",
       "      <td>0.0</td>\n",
       "    </tr>\n",
       "    <tr>\n",
       "      <th>4</th>\n",
       "      <td>2980186012</td>\n",
       "      <td>8685</td>\n",
       "      <td>en</td>\n",
       "      <td>RT @CathyTo47590555: #ElectionFinalThoughts #D...</td>\n",
       "      <td>2016-11-08 06:54</td>\n",
       "      <td>0.0</td>\n",
       "    </tr>\n",
       "  </tbody>\n",
       "</table>\n",
       "</div>"
      ],
      "text/plain": [
       "       userid  follower_count account_language  \\\n",
       "0  2980186012            8685               en   \n",
       "1  2980186012            8685               en   \n",
       "2  2980186012            8685               en   \n",
       "3  2980186012            8685               en   \n",
       "4  2980186012            8685               en   \n",
       "\n",
       "                                          tweet_text        tweet_time  \\\n",
       "0  RT @AmyMek: Meanwhile in New York City....\\n\\n...  2017-02-28 07:30   \n",
       "1  RT @bean3ie: Yazidis have suffered 74 genocide...  2017-01-29 09:03   \n",
       "2  RT @Johnatsrs1949: RETWEET THIS IF YOU ARE ON ...  2015-12-20 07:51   \n",
       "3  RT @Truthdig: New Emails Confirm @HillaryClint...  2016-06-05 00:03   \n",
       "4  RT @CathyTo47590555: #ElectionFinalThoughts #D...  2016-11-08 06:54   \n",
       "\n",
       "   like_count  \n",
       "0         0.0  \n",
       "1         0.0  \n",
       "2         0.0  \n",
       "3         0.0  \n",
       "4         0.0  "
      ]
     },
     "execution_count": 30,
     "metadata": {},
     "output_type": "execute_result"
    }
   ],
   "source": [
    "df2.head()"
   ]
  },
  {
   "cell_type": "code",
   "execution_count": 31,
   "metadata": {},
   "outputs": [
    {
     "data": {
      "text/plain": [
       "(927536, 6)"
      ]
     },
     "execution_count": 31,
     "metadata": {},
     "output_type": "execute_result"
    }
   ],
   "source": [
    "df2.shape"
   ]
  },
  {
   "cell_type": "code",
   "execution_count": 33,
   "metadata": {},
   "outputs": [],
   "source": [
    "df2 = df2[df2[\"account_language\"]==\"en\"]"
   ]
  },
  {
   "cell_type": "code",
   "execution_count": 34,
   "metadata": {},
   "outputs": [
    {
     "data": {
      "text/plain": [
       "(911267, 6)"
      ]
     },
     "execution_count": 34,
     "metadata": {},
     "output_type": "execute_result"
    }
   ],
   "source": [
    "df2.shape"
   ]
  },
  {
   "cell_type": "code",
   "execution_count": 55,
   "metadata": {},
   "outputs": [],
   "source": [
    "df2['tweet_time'] = pd.to_datetime(df2['tweet_time'])"
   ]
  },
  {
   "cell_type": "code",
   "execution_count": 56,
   "metadata": {},
   "outputs": [],
   "source": [
    "vectorizer2 = TfidfVectorizer(stop_words=ENGLISH_STOP_WORDS.union([\"rt\",\"http\",\"https\"]))\n",
    "features2 = vectorizer2.fit_transform(df2[\"tweet_text\"])"
   ]
  },
  {
   "cell_type": "code",
   "execution_count": 57,
   "metadata": {},
   "outputs": [
    {
     "data": {
      "text/plain": [
       "KMeans(algorithm='auto', copy_x=True, init='k-means++', max_iter=200,\n",
       "    n_clusters=3, n_init=5, n_jobs=1, precompute_distances='auto',\n",
       "    random_state=None, tol=0.0001, verbose=0)"
      ]
     },
     "execution_count": 57,
     "metadata": {},
     "output_type": "execute_result"
    }
   ],
   "source": [
    "model2 = KMeans(n_clusters=3, init='k-means++', max_iter=200, n_init=5)\n",
    "model2.fit(features2)"
   ]
  },
  {
   "cell_type": "code",
   "execution_count": 58,
   "metadata": {},
   "outputs": [
    {
     "name": "stdout",
     "output_type": "stream",
     "text": [
      "Top terms per cluster:\n",
      "Cluster 0:\n",
      " trump\n",
      " amp\n",
      " obama\n",
      " hillary\n",
      " cathyto47590555\n",
      " just\n",
      " people\n",
      " america\n",
      " clinton\n",
      " uthornsrawk\n",
      "Cluster 1:\n",
      " islam\n",
      " lesson\n",
      " today\n",
      " saminfidel\n",
      " stopimportingislam\n",
      " islamistheproblem\n",
      " educateyourselfonislam\n",
      " bansharialaw\n",
      " infidel4life2\n",
      " stopmakingexcusesforislam\n",
      "Cluster 2:\n",
      " realdonaldtrump\n",
      " maga\n",
      " americafirst\n",
      " trump\n",
      " qanon\n",
      " president\n",
      " makeamericagreatagain\n",
      " trumptrain\n",
      " potus\n",
      " great\n"
     ]
    }
   ],
   "source": [
    "print(\"Top terms per cluster:\")\n",
    "order_centroids2 = model2.cluster_centers_.argsort()[:, ::-1]\n",
    "terms2 = vectorizer2.get_feature_names()\n",
    "for i in range(3):\n",
    "    print(\"Cluster %d:\" % i),\n",
    "    for ind in order_centroids2[i, :10]:\n",
    "        print(' %s' % terms2[ind]),"
   ]
  },
  {
   "cell_type": "code",
   "execution_count": 63,
   "metadata": {},
   "outputs": [],
   "source": [
    "df2['cluster'] = model2.labels_.tolist()"
   ]
  },
  {
   "cell_type": "code",
   "execution_count": 69,
   "metadata": {},
   "outputs": [],
   "source": [
    "df.to_csv(\"iranian_tweets_cluster.csv\")\n",
    "df2.to_csv(\"russian_tweets_cluster.csv\")\n",
    "pickle.dump(model, open('model.sav', 'wb'))\n",
    "pickle.dump(model2, open('model2.sav', 'wb'))\n",
    "pickle.dump(vectorizer, open('vectorizer.sav', 'wb'))\n",
    "pickle.dump(vectorizer2, open('vectorizer2.sav', 'wb'))"
   ]
  },
  {
   "cell_type": "code",
   "execution_count": 40,
   "metadata": {},
   "outputs": [
    {
     "name": "stderr",
     "output_type": "stream",
     "text": [
      "c:\\users\\karan\\appdata\\local\\programs\\python\\python36\\lib\\site-packages\\IPython\\core\\interactiveshell.py:3020: DtypeWarning: Columns (0,1,3,4,5) have mixed types. Specify dtype option on import or set low_memory=False.\n",
      "  interactivity=interactivity, compiler=compiler, result=result)\n"
     ]
    }
   ],
   "source": [
    "df2 = pd.read_csv('russian_tweets_cluster.csv')"
   ]
  },
  {
   "cell_type": "code",
   "execution_count": 41,
   "metadata": {},
   "outputs": [
    {
     "data": {
      "text/plain": [
       "(1189989, 8)"
      ]
     },
     "execution_count": 41,
     "metadata": {},
     "output_type": "execute_result"
    }
   ],
   "source": [
    "df2.shape"
   ]
  },
  {
   "cell_type": "code",
   "execution_count": 42,
   "metadata": {},
   "outputs": [],
   "source": [
    "df2.dropna(subset=['cluster'],inplace=True)"
   ]
  },
  {
   "cell_type": "code",
   "execution_count": 43,
   "metadata": {},
   "outputs": [],
   "source": [
    "df2['cluster'] = df2['cluster'].astype(int)"
   ]
  },
  {
   "cell_type": "code",
   "execution_count": 44,
   "metadata": {},
   "outputs": [
    {
     "data": {
      "text/plain": [
       "(911167, 8)"
      ]
     },
     "execution_count": 44,
     "metadata": {},
     "output_type": "execute_result"
    }
   ],
   "source": [
    "df2.shape"
   ]
  },
  {
   "cell_type": "code",
   "execution_count": 45,
   "metadata": {},
   "outputs": [],
   "source": [
    "df2 = df2[(df2['cluster']==0)|(df2['cluster']==2)]"
   ]
  },
  {
   "cell_type": "code",
   "execution_count": 46,
   "metadata": {},
   "outputs": [
    {
     "data": {
      "text/plain": [
       "(880862, 8)"
      ]
     },
     "execution_count": 46,
     "metadata": {},
     "output_type": "execute_result"
    }
   ],
   "source": [
    "df2.shape"
   ]
  },
  {
   "cell_type": "code",
   "execution_count": 48,
   "metadata": {},
   "outputs": [],
   "source": [
    "df2.to_csv('russian_tweets_app.csv')"
   ]
  },
  {
   "cell_type": "code",
   "execution_count": 4,
   "metadata": {},
   "outputs": [],
   "source": [
    "df3 = pd.read_csv('ira_tweets_short.csv')"
   ]
  },
  {
   "cell_type": "code",
   "execution_count": 5,
   "metadata": {},
   "outputs": [],
   "source": [
    "vectorizer3 = TfidfVectorizer(stop_words=ENGLISH_STOP_WORDS.union([\"rt\",\"http\",\"https\"]))\n",
    "features3 = vectorizer3.fit_transform(df3[\"tweet_text\"])"
   ]
  },
  {
   "cell_type": "code",
   "execution_count": null,
   "metadata": {},
   "outputs": [],
   "source": [
    "model3 = KMeans(n_clusters=4, init='k-means++', max_iter=200, n_init=5)\n",
    "model3.fit(features3)"
   ]
  },
  {
   "cell_type": "code",
   "execution_count": 7,
   "metadata": {},
   "outputs": [
    {
     "name": "stdout",
     "output_type": "stream",
     "text": [
      "Top terms per cluster:\n",
      "Cluster 0:\n",
      " sports\n",
      " love\n",
      " don\n",
      " true\n",
      " know\n",
      " like\n",
      " rap\n",
      " want\n",
      " just\n",
      " people\n",
      "Cluster 1:\n",
      " news\n",
      " world\n",
      " chicago\n",
      " local\n",
      " man\n",
      " police\n",
      " texas\n",
      " new\n",
      " business\n",
      " shooting\n",
      "Cluster 2:\n",
      " politics\n",
      " just\n",
      " like\n",
      " people\n",
      " man\n",
      " new\n",
      " amp\n",
      " life\n",
      " obama\n",
      " time\n",
      "Cluster 3:\n",
      " trump\n",
      " donald\n",
      " president\n",
      " politics\n",
      " just\n",
      " breaking\n",
      " obama\n",
      " maga\n",
      " video\n",
      " supporters\n"
     ]
    }
   ],
   "source": [
    "import pickle\n",
    "model3 = pickle.load(open(\"model3.sav\", 'rb'))\n",
    "vectorizer3 = pickle.load(open(\"vectorizer3.sav\", 'rb'))\n",
    "print(\"Top terms per cluster:\")\n",
    "order_centroids3 = model3.cluster_centers_.argsort()[:, ::-1]\n",
    "terms3 = vectorizer3.get_feature_names()\n",
    "for i in range(4):\n",
    "    print(\"Cluster %d:\" % i),\n",
    "    for ind in order_centroids3[i, :10]:\n",
    "        print(' %s' % terms3[ind])"
   ]
  },
  {
   "cell_type": "code",
   "execution_count": 55,
   "metadata": {},
   "outputs": [],
   "source": [
    "df3['cluster'] = model3.labels_.tolist()"
   ]
  },
  {
   "cell_type": "code",
   "execution_count": 18,
   "metadata": {},
   "outputs": [],
   "source": [
    "order_centroids3 = order_centroids3[:,0:10]\n",
    "dict3 = {}\n",
    "for i in range(4):\n",
    "    words = []\n",
    "    for ind in order_centroids3[i]:\n",
    "        words.append(terms3[ind])\n",
    "    dict3[i] = words"
   ]
  },
  {
   "cell_type": "code",
   "execution_count": 61,
   "metadata": {},
   "outputs": [],
   "source": [
    "df3.to_csv(\"ira_tweets_cluster.csv\")\n",
    "pickle.dump(model3, open('model3.sav', 'wb'))\n",
    "pickle.dump(vectorizer3, open('vectorizer3.sav', 'wb'))\n",
    "pickle.dump(order_centroids3, open('order_centroids3.sav', 'wb'))\n",
    "pickle.dump(terms3, open('terms3.sav', 'wb'))"
   ]
  },
  {
   "cell_type": "code",
   "execution_count": 20,
   "metadata": {},
   "outputs": [],
   "source": [
    "pickle.dump(dict3, open('dict3.sav', 'wb'))"
   ]
  },
  {
   "cell_type": "code",
   "execution_count": 23,
   "metadata": {},
   "outputs": [],
   "source": [
    "dict3 = pickle.load(open(\"\"+\"dict3.sav\", 'rb'))"
   ]
  },
  {
   "cell_type": "code",
   "execution_count": null,
   "metadata": {},
   "outputs": [],
   "source": []
  }
 ],
 "metadata": {
  "kernelspec": {
   "display_name": "Python 3",
   "language": "python",
   "name": "python3"
  },
  "language_info": {
   "codemirror_mode": {
    "name": "ipython",
    "version": 3
   },
   "file_extension": ".py",
   "mimetype": "text/x-python",
   "name": "python",
   "nbconvert_exporter": "python",
   "pygments_lexer": "ipython3",
   "version": "3.6.8"
  }
 },
 "nbformat": 4,
 "nbformat_minor": 2
}
