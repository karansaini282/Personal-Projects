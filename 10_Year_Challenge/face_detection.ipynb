{
 "cells": [
  {
   "cell_type": "code",
   "execution_count": 33,
   "metadata": {},
   "outputs": [],
   "source": [
    "import dlib\n",
    "import argparse\n",
    "import time\n",
    "import cv2\n",
    "import matplotlib.pyplot as plt\n",
    "%matplotlib inline"
   ]
  },
  {
   "cell_type": "code",
   "execution_count": 34,
   "metadata": {},
   "outputs": [],
   "source": [
    "def show_face(image,x,y,w,h):\n",
    "    image2 = image.copy()\n",
    "    cv2.destroyAllWindows()\n",
    "    cv2.rectangle(image2, (x,y), (x+w,y+h), (0,255,0), 2)\n",
    "    cv2.imshow(\"face detection with dlib\", image2)\n",
    "    cv2.waitKey() \n",
    "    cv2.destroyAllWindows()"
   ]
  },
  {
   "cell_type": "code",
   "execution_count": 35,
   "metadata": {},
   "outputs": [],
   "source": [
    "# load input image\n",
    "image = cv2.imread(\"Images/image24.jpg\")\n",
    "\n",
    "if image is None:\n",
    "    print(\"Could not read input image\")\n",
    "    exit()\n",
    "\n",
    "# initialize hog + svm based face detector\n",
    "hog_face_detector = dlib.get_frontal_face_detector()\n",
    "\n",
    "# initialize cnn based face detector with the weights\n",
    "cnn_face_detector = dlib.cnn_face_detection_model_v1(\"mmod_human_face_detector.dat\")"
   ]
  },
  {
   "cell_type": "code",
   "execution_count": 36,
   "metadata": {},
   "outputs": [
    {
     "name": "stdout",
     "output_type": "stream",
     "text": [
      "Execution Time (in seconds) :\n",
      "HOG :  0.64\n"
     ]
    }
   ],
   "source": [
    "start = time.time()\n",
    "\n",
    "# apply face detection (hog)\n",
    "faces_hog = hog_face_detector(image, 1)\n",
    "\n",
    "end = time.time()\n",
    "print(\"Execution Time (in seconds) :\")\n",
    "print(\"HOG : \", format(end - start, '.2f'))\n",
    "\n",
    "# loop over detected faces\n",
    "if len(faces_hog)>0:\n",
    "    face = faces_hog[0]\n",
    "    x = face.left()\n",
    "    y = face.top()\n",
    "    w = face.right() - x\n",
    "    h = face.bottom() - y\n",
    "    \n",
    "    show_face(image,x,y,w,h)"
   ]
  },
  {
   "cell_type": "code",
   "execution_count": 20,
   "metadata": {},
   "outputs": [
    {
     "name": "stdout",
     "output_type": "stream",
     "text": [
      "CNN :  78.90\n"
     ]
    }
   ],
   "source": [
    "start = time.time()\n",
    "\n",
    "# apply face detection (cnn)\n",
    "faces_cnn = cnn_face_detector(image, 1)\n",
    "end = time.time()\n",
    "print(\"CNN : \", format(end - start, '.2f'))\n",
    "\n",
    "# loop over detected faces\n",
    "if len(faces_cnn)>0:\n",
    "    face = faces_cnn[0]\n",
    "    x = face.rect.left()\n",
    "    y = face.rect.top()\n",
    "    w = face.rect.right() - x\n",
    "    h = face.rect.bottom() - y\n",
    "\n",
    "    show_face(image,x,y,w,h)"
   ]
  },
  {
   "cell_type": "code",
   "execution_count": null,
   "metadata": {},
   "outputs": [],
   "source": []
  }
 ],
 "metadata": {
  "kernelspec": {
   "display_name": "Python 3",
   "language": "python",
   "name": "python3"
  },
  "language_info": {
   "codemirror_mode": {
    "name": "ipython",
    "version": 3
   },
   "file_extension": ".py",
   "mimetype": "text/x-python",
   "name": "python",
   "nbconvert_exporter": "python",
   "pygments_lexer": "ipython3",
   "version": "3.6.8"
  }
 },
 "nbformat": 4,
 "nbformat_minor": 2
}
