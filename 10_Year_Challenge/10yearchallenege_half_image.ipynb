{
 "cells": [
  {
   "cell_type": "code",
   "execution_count": 1,
   "metadata": {},
   "outputs": [],
   "source": [
    "import urllib\n",
    "from selenium import webdriver\n",
    "from selenium.webdriver.common.keys import Keys\n",
    "from selenium.webdriver.common.actions import key_input,mouse_button\n",
    "from selenium.webdriver.common.action_chains import ActionChains\n",
    "import re\n",
    "import pandas as pd\n",
    "from IPython.display import Image\n",
    "\n",
    "try:\n",
    "    from urllib import urlretrieve as urlretrieve\n",
    "except ImportError:\n",
    "    from urllib.request import urlretrieve as urlretrieve\n",
    "\n",
    "search = \"10 year challenge\"\n",
    "limit = 6000"
   ]
  },
  {
   "cell_type": "code",
   "execution_count": 2,
   "metadata": {},
   "outputs": [],
   "source": [
    "URL = \"https://twitter.com/search?q=\"+search+\"&src=tyah&lang=en\""
   ]
  },
  {
   "cell_type": "code",
   "execution_count": 3,
   "metadata": {},
   "outputs": [],
   "source": [
    "driver = webdriver.Chrome(r\"C:\\Users\\karan\\Downloads\\chromedriver.exe\")\n",
    "driver.implicitly_wait(1)\n",
    "driver.get(URL)"
   ]
  },
  {
   "cell_type": "code",
   "execution_count": null,
   "metadata": {},
   "outputs": [],
   "source": [
    "while True:\n",
    "    images = driver.find_elements_by_class_name(\"AdaptiveMedia-halfWidthPhoto\")\n",
    "    ActionChains(driver) \\\n",
    "        .key_down(Keys.PAGE_DOWN) \\\n",
    "        .key_up(Keys.PAGE_DOWN) \\\n",
    "        .perform()\n",
    "    if len(images) >= limit:\n",
    "        break"
   ]
  },
  {
   "cell_type": "code",
   "execution_count": 5,
   "metadata": {},
   "outputs": [
    {
     "data": {
      "text/plain": [
       "854"
      ]
     },
     "execution_count": 5,
     "metadata": {},
     "output_type": "execute_result"
    }
   ],
   "source": [
    "len(images)"
   ]
  },
  {
   "cell_type": "code",
   "execution_count": 7,
   "metadata": {},
   "outputs": [
    {
     "name": "stdout",
     "output_type": "stream",
     "text": [
      "Total images downloaded: 854\n"
     ]
    }
   ],
   "source": [
    "count = len(images)\n",
    "for i in range(0,len(images),2):\n",
    "    img_tag1 = images[i].find_element_by_tag_name('img')\n",
    "    img_tag2 = images[i+1].find_element_by_tag_name('img')\n",
    "    \n",
    "    try:\n",
    "        link1 = img_tag1.get_attribute(\"src\")\n",
    "        link2 = img_tag2.get_attribute(\"src\")\n",
    "        urlretrieve(link1,\"Images/image\"+str(i)+\".\"+link1.split(\".\")[-1])\n",
    "        urlretrieve(link2,\"Images/image\"+str(i+1)+\".\"+link2.split(\".\")[-1])\n",
    "    except:\n",
    "        count = count -2\n",
    "\n",
    "print(\"Total images downloaded: {}\".format(count))"
   ]
  },
  {
   "cell_type": "code",
   "execution_count": null,
   "metadata": {},
   "outputs": [],
   "source": []
  }
 ],
 "metadata": {
  "kernelspec": {
   "display_name": "Python 3",
   "language": "python",
   "name": "python3"
  },
  "language_info": {
   "codemirror_mode": {
    "name": "ipython",
    "version": 3
   },
   "file_extension": ".py",
   "mimetype": "text/x-python",
   "name": "python",
   "nbconvert_exporter": "python",
   "pygments_lexer": "ipython3",
   "version": "3.6.8"
  }
 },
 "nbformat": 4,
 "nbformat_minor": 2
}
