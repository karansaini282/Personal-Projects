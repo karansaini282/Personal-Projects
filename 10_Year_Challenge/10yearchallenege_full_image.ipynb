{
 "cells": [
  {
   "cell_type": "code",
   "execution_count": 1,
   "metadata": {},
   "outputs": [],
   "source": [
    "import urllib\n",
    "from selenium import webdriver\n",
    "from selenium.webdriver.common.keys import Keys\n",
    "from selenium.webdriver.common.actions import key_input,mouse_button\n",
    "from selenium.webdriver.common.action_chains import ActionChains\n",
    "import re\n",
    "import pandas as pd\n",
    "import IPython\n",
    "from PIL import Image\n",
    "import requests\n",
    "from io import BytesIO\n",
    "import matplotlib.pyplot as plt\n",
    "import numpy as np\n",
    "import os\n",
    "\n",
    "try:\n",
    "    from urllib import urlretrieve as urlretrieve\n",
    "except ImportError:\n",
    "    from urllib.request import urlretrieve as urlretrieve\n",
    "\n",
    "search = \"10 year challenge\"\n",
    "limit = 3000\n",
    "\n",
    "%matplotlib inline"
   ]
  },
  {
   "cell_type": "code",
   "execution_count": 2,
   "metadata": {},
   "outputs": [],
   "source": [
    "def crop_vertical(img):\n",
    "    return img.crop((0,0,img.width/2,img.height)),img.crop((img.width/2,0,img.width,img.height))\n",
    "def crop_horizontal(img):\n",
    "    return img.crop((0,0,img.width,img.height/2)),img.crop((0,img.height/2,img.width,img.height))"
   ]
  },
  {
   "cell_type": "code",
   "execution_count": 3,
   "metadata": {},
   "outputs": [],
   "source": [
    "URL = \"https://twitter.com/search?q=\"+search+\"&src=tyah&lang=en\""
   ]
  },
  {
   "cell_type": "code",
   "execution_count": 4,
   "metadata": {},
   "outputs": [],
   "source": [
    "driver = webdriver.Chrome(r\"C:\\Users\\karan\\Downloads\\chromedriver.exe\")\n",
    "driver.implicitly_wait(1)\n",
    "driver.get(URL)"
   ]
  },
  {
   "cell_type": "code",
   "execution_count": null,
   "metadata": {},
   "outputs": [],
   "source": [
    "curr_10_a = 0\n",
    "curr_10_b = 0\n",
    "i = 0\n",
    "while True:\n",
    "    i = i + 1\n",
    "    images = driver.find_elements_by_class_name(\"AdaptiveMedia-singlePhoto\")\n",
    "    ActionChains(driver) \\\n",
    "        .key_down(Keys.PAGE_DOWN) \\\n",
    "        .key_up(Keys.PAGE_DOWN) \\\n",
    "        .perform()\n",
    "    if(i%10==0):\n",
    "        curr_10_a = curr_10_b\n",
    "        curr_10_b = len(images)\n",
    "    if len(images) >= limit | curr_10_a == curr_10_b:\n",
    "        break"
   ]
  },
  {
   "cell_type": "code",
   "execution_count": 6,
   "metadata": {},
   "outputs": [
    {
     "data": {
      "text/plain": [
       "618"
      ]
     },
     "execution_count": 6,
     "metadata": {},
     "output_type": "execute_result"
    }
   ],
   "source": [
    "len(images)"
   ]
  },
  {
   "cell_type": "code",
   "execution_count": 11,
   "metadata": {},
   "outputs": [
    {
     "name": "stdout",
     "output_type": "stream",
     "text": [
      "Total images downloaded: 618\n"
     ]
    }
   ],
   "source": [
    "count = len(images)\n",
    "for i in range(0,len(images)):\n",
    "    img = images[i].find_element_by_tag_name('img')\n",
    "    try:\n",
    "        link = img.get_attribute(\"src\")\n",
    "        response = requests.get(link)\n",
    "        img = Image.open(BytesIO(response.content))\n",
    "        img.save(\"Images2/image\"+str(i)+\".\"+link.split(\".\")[-1])\n",
    "    except:\n",
    "        count = count - 1\n",
    "\n",
    "print(\"Total images downloaded: {}\".format(count))"
   ]
  },
  {
   "cell_type": "code",
   "execution_count": 6,
   "metadata": {},
   "outputs": [],
   "source": [
    "i = 0\n",
    "for image in os.listdir(\"Images2/\"):\n",
    "    img = Image.open(\"Images2/\"+image)\n",
    "    img1, img2 = crop_vertical(img)\n",
    "    img1.save(\"Images3/image\"+str(i)+\".\"+image.split(\".\")[1])\n",
    "    img2.save(\"Images3/image\"+str(i+1)+\".\"+image.split(\".\")[1])\n",
    "    i = i + 2"
   ]
  },
  {
   "cell_type": "code",
   "execution_count": null,
   "metadata": {},
   "outputs": [],
   "source": []
  }
 ],
 "metadata": {
  "kernelspec": {
   "display_name": "Python 3",
   "language": "python",
   "name": "python3"
  },
  "language_info": {
   "codemirror_mode": {
    "name": "ipython",
    "version": 3
   },
   "file_extension": ".py",
   "mimetype": "text/x-python",
   "name": "python",
   "nbconvert_exporter": "python",
   "pygments_lexer": "ipython3",
   "version": "3.6.8"
  }
 },
 "nbformat": 4,
 "nbformat_minor": 2
}
