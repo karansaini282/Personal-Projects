{
 "cells": [
  {
   "cell_type": "code",
   "execution_count": 2,
   "metadata": {},
   "outputs": [
    {
     "name": "stderr",
     "output_type": "stream",
     "text": [
      "Using TensorFlow backend.\n"
     ]
    }
   ],
   "source": [
    "import tensorflow \n",
    "from keras import backend as K\n",
    "from tensorflow.python.keras.applications import ResNet50,VGG16\n",
    "from tensorflow.python.keras.models import Model,Sequential\n",
    "from tensorflow.python.keras.layers import Input,Dense, Flatten, GlobalAveragePooling2D,Lambda, Dropout\n",
    "from tensorflow.python.keras.applications.resnet50 import preprocess_input\n",
    "from tensorflow.python.keras.preprocessing.image import ImageDataGenerator\n",
    "import time\n",
    "import os\n",
    "from keras.preprocessing import image\n",
    "from keras.applications.imagenet_utils import preprocess_input\n",
    "import numpy as np\n",
    "from sklearn.utils import shuffle\n",
    "from sklearn.model_selection import train_test_split\n",
    "import random\n",
    "import matplotlib.pylab as plt\n",
    "%matplotlib inline"
   ]
  },
  {
   "cell_type": "code",
   "execution_count": 77,
   "metadata": {},
   "outputs": [],
   "source": [
    "# Model architecture using VGG16 \n",
    "left_input = Input(shape=(224, 224, 3))\n",
    "right_input=Input(shape=(224,224,3))\n",
    "model = Sequential()\n",
    "model.add(VGG16(pooling='avg', include_top=False,weights='imagenet'))\n",
    "for i in range(11):\n",
    "    model.layers[0].layers[i].trainable = False"
   ]
  },
  {
   "cell_type": "code",
   "execution_count": 78,
   "metadata": {},
   "outputs": [
    {
     "name": "stdout",
     "output_type": "stream",
     "text": [
      "_________________________________________________________________\n",
      "Layer (type)                 Output Shape              Param #   \n",
      "=================================================================\n",
      "input_12 (InputLayer)        (None, None, None, 3)     0         \n",
      "_________________________________________________________________\n",
      "block1_conv1 (Conv2D)        (None, None, None, 64)    1792      \n",
      "_________________________________________________________________\n",
      "block1_conv2 (Conv2D)        (None, None, None, 64)    36928     \n",
      "_________________________________________________________________\n",
      "block1_pool (MaxPooling2D)   (None, None, None, 64)    0         \n",
      "_________________________________________________________________\n",
      "block2_conv1 (Conv2D)        (None, None, None, 128)   73856     \n",
      "_________________________________________________________________\n",
      "block2_conv2 (Conv2D)        (None, None, None, 128)   147584    \n",
      "_________________________________________________________________\n",
      "block2_pool (MaxPooling2D)   (None, None, None, 128)   0         \n",
      "_________________________________________________________________\n",
      "block3_conv1 (Conv2D)        (None, None, None, 256)   295168    \n",
      "_________________________________________________________________\n",
      "block3_conv2 (Conv2D)        (None, None, None, 256)   590080    \n",
      "_________________________________________________________________\n",
      "block3_conv3 (Conv2D)        (None, None, None, 256)   590080    \n",
      "_________________________________________________________________\n",
      "block3_pool (MaxPooling2D)   (None, None, None, 256)   0         \n",
      "_________________________________________________________________\n",
      "block4_conv1 (Conv2D)        (None, None, None, 512)   1180160   \n",
      "_________________________________________________________________\n",
      "block4_conv2 (Conv2D)        (None, None, None, 512)   2359808   \n",
      "_________________________________________________________________\n",
      "block4_conv3 (Conv2D)        (None, None, None, 512)   2359808   \n",
      "_________________________________________________________________\n",
      "block4_pool (MaxPooling2D)   (None, None, None, 512)   0         \n",
      "_________________________________________________________________\n",
      "block5_conv1 (Conv2D)        (None, None, None, 512)   2359808   \n",
      "_________________________________________________________________\n",
      "block5_conv2 (Conv2D)        (None, None, None, 512)   2359808   \n",
      "_________________________________________________________________\n",
      "block5_conv3 (Conv2D)        (None, None, None, 512)   2359808   \n",
      "_________________________________________________________________\n",
      "block5_pool (MaxPooling2D)   (None, None, None, 512)   0         \n",
      "_________________________________________________________________\n",
      "global_average_pooling2d_3 ( (None, 512)               0         \n",
      "=================================================================\n",
      "Total params: 14,714,688\n",
      "Trainable params: 12,979,200\n",
      "Non-trainable params: 1,735,488\n",
      "_________________________________________________________________\n"
     ]
    }
   ],
   "source": [
    "model.layers[0].summary()"
   ]
  },
  {
   "cell_type": "code",
   "execution_count": 79,
   "metadata": {},
   "outputs": [],
   "source": [
    "encoded_l = model(left_input)\n",
    "encoded_r = model(right_input)\n",
    "L1_layer = Lambda(lambda tensors:K.abs(tensors[0] - tensors[1]))\n",
    "#call this layer on list of two input tensors.\n",
    "L1_distance = L1_layer([encoded_l, encoded_r])\n",
    "#prediction = Dense(2,activation='sigmoid')(L1_distance)\n",
    "prediction = Dense(512,activation='relu')(L1_distance)\n",
    "prediction = Dropout(0.5)(prediction)\n",
    "prediction = Dense(1,activation='sigmoid')(prediction)\n",
    "# Indicate whether the first layer should be trained/changed or not.\n",
    "siamese_net = Model(inputs=[left_input,right_input],outputs=prediction)\n",
    "#siamese_net.compile(loss=\"categorical_crossentropy\",optimizer='sgd',metrics=['accuracy'])\n",
    "siamese_net.compile(loss=\"binary_crossentropy\",optimizer='sgd',metrics=['accuracy'])"
   ]
  },
  {
   "cell_type": "code",
   "execution_count": 80,
   "metadata": {},
   "outputs": [
    {
     "name": "stdout",
     "output_type": "stream",
     "text": [
      "__________________________________________________________________________________________________\n",
      "Layer (type)                    Output Shape         Param #     Connected to                     \n",
      "==================================================================================================\n",
      "input_10 (InputLayer)           (None, 224, 224, 3)  0                                            \n",
      "__________________________________________________________________________________________________\n",
      "input_11 (InputLayer)           (None, 224, 224, 3)  0                                            \n",
      "__________________________________________________________________________________________________\n",
      "sequential_3 (Sequential)       (None, 512)          14714688    input_10[0][0]                   \n",
      "                                                                 input_11[0][0]                   \n",
      "__________________________________________________________________________________________________\n",
      "lambda_3 (Lambda)               (None, 512)          0           sequential_3[1][0]               \n",
      "                                                                 sequential_3[2][0]               \n",
      "__________________________________________________________________________________________________\n",
      "dense_8 (Dense)                 (None, 512)          262656      lambda_3[0][0]                   \n",
      "__________________________________________________________________________________________________\n",
      "dropout_5 (Dropout)             (None, 512)          0           dense_8[0][0]                    \n",
      "__________________________________________________________________________________________________\n",
      "dense_9 (Dense)                 (None, 1)            513         dropout_5[0][0]                  \n",
      "==================================================================================================\n",
      "Total params: 14,977,857\n",
      "Trainable params: 13,242,369\n",
      "Non-trainable params: 1,735,488\n",
      "__________________________________________________________________________________________________\n"
     ]
    }
   ],
   "source": [
    "siamese_net.summary()"
   ]
  },
  {
   "cell_type": "code",
   "execution_count": 7,
   "metadata": {},
   "outputs": [],
   "source": [
    "siamese_pairs_1=[]\n",
    "siamese_pairs_2=[]\n",
    "non_siamese_pairs_1=[]\n",
    "non_siamese_pairs_2=[]"
   ]
  },
  {
   "cell_type": "code",
   "execution_count": 8,
   "metadata": {},
   "outputs": [],
   "source": [
    "def get_siamese_pairs_female_train(path1,path2):\n",
    "    dirs1 = os.listdir(path1)\n",
    "    dirs2=  os.listdir(path2)\n",
    "    for item in dirs1:\n",
    "        for item2 in dirs2:\n",
    "            f1, e1 = os.path.splitext(path1+item)\n",
    "            f2, e2 = os.path.splitext(path2+item2)\n",
    "            if f1[27:-2] == f2[27:-2]:\n",
    "                img1 = image.load_img(path1+item, target_size=(224, 224))\n",
    "                img2 = image.load_img(path2+item2, target_size=(224,224))\n",
    "                x1 = image.img_to_array(img1)\n",
    "                x2 = image.img_to_array(img2)\n",
    "                x1 = preprocess_input(x1)\n",
    "                x2 = preprocess_input(x2)\n",
    "                x1 = x1/255\n",
    "                x2 = x2/255\n",
    "                siamese_pairs_1.append(x1)\n",
    "                siamese_pairs_2.append(x2)"
   ]
  },
  {
   "cell_type": "code",
   "execution_count": 9,
   "metadata": {},
   "outputs": [
    {
     "name": "stdout",
     "output_type": "stream",
     "text": [
      "7\n",
      "7\n",
      "17\n",
      "17\n",
      "24\n",
      "24\n"
     ]
    }
   ],
   "source": [
    "# For Female Category1\n",
    "get_siamese_pairs_female_train('./train/1/Female/Category1/','./train/2/Female/Category1/')\n",
    "print(len(siamese_pairs_1))\n",
    "print(len(siamese_pairs_2))\n",
    "# For Female Category2\n",
    "get_siamese_pairs_female_train('./train/1/Female/Category2/','./train/2/Female/Category2/')\n",
    "print(len(siamese_pairs_1))\n",
    "print(len(siamese_pairs_2))\n",
    "# For Female Category3\n",
    "get_siamese_pairs_female_train('./train/1/Female/Category3/','./train/2/Female/Category3/')\n",
    "print(len(siamese_pairs_1))\n",
    "print(len(siamese_pairs_2))"
   ]
  },
  {
   "cell_type": "code",
   "execution_count": 10,
   "metadata": {},
   "outputs": [],
   "source": [
    "def get_siamese_pairs_male_train(path1,path2):\n",
    "    dirs1 = os.listdir(path1)\n",
    "    dirs2=  os.listdir(path2)\n",
    "    for item in dirs1:\n",
    "        for item2 in dirs2:\n",
    "            f1, e1 = os.path.splitext(path1+item)\n",
    "            f2, e2 = os.path.splitext(path2+item2)\n",
    "            if f1[25:-2] == f2[25:-2]:\n",
    "                img1 = image.load_img(path1+item, target_size=(224, 224))\n",
    "                img2 = image.load_img(path2+item2, target_size=(224,224))\n",
    "                x1 = image.img_to_array(img1)\n",
    "                x2 = image.img_to_array(img2)\n",
    "                x1 = preprocess_input(x1)\n",
    "                x2 = preprocess_input(x2)\n",
    "                x1 = x1/255\n",
    "                x2 = x2/255\n",
    "                siamese_pairs_1.append(x1)\n",
    "                siamese_pairs_2.append(x2)"
   ]
  },
  {
   "cell_type": "code",
   "execution_count": 11,
   "metadata": {},
   "outputs": [
    {
     "name": "stdout",
     "output_type": "stream",
     "text": [
      "41\n",
      "41\n",
      "46\n",
      "46\n",
      "56\n",
      "56\n"
     ]
    }
   ],
   "source": [
    "# For Male Category1\n",
    "get_siamese_pairs_male_train('./train/1/Male/Category1/','./train/2/Male/Category1/')\n",
    "print(len(siamese_pairs_1))\n",
    "print(len(siamese_pairs_2))\n",
    "# For Male Category2\n",
    "get_siamese_pairs_male_train('./train/1/Male/Category2/','./train/2/Male/Category2/')\n",
    "print(len(siamese_pairs_1))\n",
    "print(len(siamese_pairs_2))\n",
    "# For Male Category3\n",
    "get_siamese_pairs_male_train('./train/1/Male/Category3/','./train/2/Male/Category3/')\n",
    "print(len(siamese_pairs_1))\n",
    "print(len(siamese_pairs_2))"
   ]
  },
  {
   "cell_type": "code",
   "execution_count": 12,
   "metadata": {},
   "outputs": [],
   "source": [
    "def get_siamese_pairs_female_validation(path1,path2):\n",
    "    dirs1 = os.listdir(path1)\n",
    "    dirs2=  os.listdir(path2)\n",
    "    for item in dirs1:\n",
    "        for item2 in dirs2:\n",
    "            f1, e1 = os.path.splitext(path1+item)\n",
    "            f2, e2 = os.path.splitext(path2+item2)\n",
    "            if f1[31:-2] == f2[31:-2]:\n",
    "                img1 = image.load_img(path1+item, target_size=(224, 224))\n",
    "                img2 = image.load_img(path2+item2, target_size=(224,224))\n",
    "                x1 = image.img_to_array(img1)\n",
    "                x2 = image.img_to_array(img2)\n",
    "                x1 = preprocess_input(x1)\n",
    "                x2 = preprocess_input(x2)\n",
    "                x1 = x1/255\n",
    "                x2 = x2/255\n",
    "                siamese_pairs_1.append(x1)\n",
    "                siamese_pairs_2.append(x2)"
   ]
  },
  {
   "cell_type": "code",
   "execution_count": 13,
   "metadata": {},
   "outputs": [
    {
     "name": "stdout",
     "output_type": "stream",
     "text": [
      "63\n",
      "63\n",
      "70\n",
      "70\n",
      "80\n",
      "80\n"
     ]
    }
   ],
   "source": [
    "# For Female Category1\n",
    "get_siamese_pairs_female_validation('./validation/1/Female/Category1/','./validation/2/Female/Category1/')\n",
    "print(len(siamese_pairs_1))\n",
    "print(len(siamese_pairs_2))\n",
    "# For Female Category2\n",
    "get_siamese_pairs_female_validation('./validation/1/Female/Category2/','./validation/2/Female/Category2/')\n",
    "print(len(siamese_pairs_1))\n",
    "print(len(siamese_pairs_2))\n",
    "# For Female Category3\n",
    "get_siamese_pairs_female_validation('./validation/1/Female/Category3/','./validation/2/Female/Category3/')\n",
    "print(len(siamese_pairs_1))\n",
    "print(len(siamese_pairs_2))"
   ]
  },
  {
   "cell_type": "code",
   "execution_count": 14,
   "metadata": {},
   "outputs": [],
   "source": [
    "def get_siamese_pairs_male_validation(path1,path2):\n",
    "    dirs1 = os.listdir(path1)\n",
    "    dirs2=  os.listdir(path2)\n",
    "    for item in dirs1:\n",
    "        for item2 in dirs2:\n",
    "            f1, e1 = os.path.splitext(path1+item)\n",
    "            f2, e2 = os.path.splitext(path2+item2)\n",
    "            if f1[29:-2] == f2[29:-2]:\n",
    "                img1 = image.load_img(path1+item, target_size=(224, 224))\n",
    "                img2 = image.load_img(path2+item2, target_size=(224,224))\n",
    "                x1 = image.img_to_array(img1)\n",
    "                x2 = image.img_to_array(img2)\n",
    "                x1 = preprocess_input(x1)\n",
    "                x2 = preprocess_input(x2)\n",
    "                x1 = x1/255\n",
    "                x2 = x2/255\n",
    "                siamese_pairs_1.append(x1)\n",
    "                siamese_pairs_2.append(x2)"
   ]
  },
  {
   "cell_type": "code",
   "execution_count": 15,
   "metadata": {},
   "outputs": [
    {
     "name": "stdout",
     "output_type": "stream",
     "text": [
      "85\n",
      "85\n",
      "92\n",
      "92\n",
      "105\n",
      "105\n"
     ]
    }
   ],
   "source": [
    "# For Male Category1\n",
    "get_siamese_pairs_male_validation('./validation/1/Male/Category1/','./validation/2/Male/Category1/')\n",
    "print(len(siamese_pairs_1))\n",
    "print(len(siamese_pairs_2))\n",
    "# For Male Category2\n",
    "get_siamese_pairs_male_validation('./validation/1/Male/Category2/','./validation/2/Male/Category2/')\n",
    "print(len(siamese_pairs_1))\n",
    "print(len(siamese_pairs_2))\n",
    "# For Male Category3\n",
    "get_siamese_pairs_male_validation('./validation/1/Male/Category3/','./validation/2/Male/Category3/')\n",
    "print(len(siamese_pairs_1))\n",
    "print(len(siamese_pairs_2))"
   ]
  },
  {
   "cell_type": "code",
   "execution_count": 16,
   "metadata": {},
   "outputs": [],
   "source": [
    "def get_non_siamese_pairs_female_train(path1,path2):\n",
    "    dirs1 = os.listdir(path1)\n",
    "    dirs2=  os.listdir(path2)\n",
    "    for item in dirs1:\n",
    "        li_1=[]\n",
    "        li_2=[]\n",
    "        for item2 in dirs2:\n",
    "            f1, e1 = os.path.splitext(path1+item)\n",
    "            f2, e2 = os.path.splitext(path2+item2)\n",
    "            if f1[27:-2] != f2[27:-2]:\n",
    "                img1 = image.load_img(path1+item, target_size=(224, 224))\n",
    "                img2 = image.load_img(path2+item2, target_size=(224,224))\n",
    "                x1 = image.img_to_array(img1)\n",
    "                x2 = image.img_to_array(img2)\n",
    "                x1 = preprocess_input(x1)\n",
    "                x2 = preprocess_input(x2)\n",
    "                x1 = x1/255\n",
    "                x2 = x2/255\n",
    "                li_1.append(x1)\n",
    "                li_2.append(x2)\n",
    "        n=random.randint(0,len(li_1)-1)\n",
    "        non_siamese_pairs_1.append(li_1[n])\n",
    "        non_siamese_pairs_2.append(li_2[n])"
   ]
  },
  {
   "cell_type": "code",
   "execution_count": 17,
   "metadata": {},
   "outputs": [
    {
     "name": "stdout",
     "output_type": "stream",
     "text": [
      "7\n",
      "7\n",
      "17\n",
      "17\n",
      "24\n",
      "24\n"
     ]
    }
   ],
   "source": [
    "# For Female Category1\n",
    "get_non_siamese_pairs_female_train('./train/1/Female/Category1/','./train/2/Female/Category1/')\n",
    "print(len(non_siamese_pairs_1))\n",
    "print(len(non_siamese_pairs_2))\n",
    "# For Female Category2\n",
    "get_non_siamese_pairs_female_train('./train/1/Female/Category2/','./train/2/Female/Category2/')\n",
    "print(len(non_siamese_pairs_1))\n",
    "print(len(non_siamese_pairs_2))\n",
    "# For Female Category3\n",
    "get_non_siamese_pairs_female_train('./train/1/Female/Category3/','./train/2/Female/Category3/')\n",
    "print(len(non_siamese_pairs_1))\n",
    "print(len(non_siamese_pairs_2))"
   ]
  },
  {
   "cell_type": "code",
   "execution_count": 18,
   "metadata": {},
   "outputs": [],
   "source": [
    "def get_non_siamese_pairs_male_train(path1,path2):\n",
    "    dirs1 = os.listdir(path1)\n",
    "    dirs2=  os.listdir(path2)\n",
    "    for item in dirs1:\n",
    "        li_1=[]\n",
    "        li_2=[]\n",
    "        for item2 in dirs2:\n",
    "            f1, e1 = os.path.splitext(path1+item)\n",
    "            f2, e2 = os.path.splitext(path2+item2)\n",
    "            if f1[25:-2] != f2[25:-2]:\n",
    "                img1 = image.load_img(path1+item, target_size=(224, 224))\n",
    "                img2 = image.load_img(path2+item2, target_size=(224,224))\n",
    "                x1 = image.img_to_array(img1)\n",
    "                x2 = image.img_to_array(img2)\n",
    "                x1 = preprocess_input(x1)\n",
    "                x2 = preprocess_input(x2)\n",
    "                x1 = x1/255\n",
    "                x2 = x2/255\n",
    "                li_1.append(x1)\n",
    "                li_2.append(x2)\n",
    "        n = random.randint(0,len(li_1)-1)\n",
    "        non_siamese_pairs_1.append(li_1[n])\n",
    "        non_siamese_pairs_2.append(li_2[n])"
   ]
  },
  {
   "cell_type": "code",
   "execution_count": 19,
   "metadata": {},
   "outputs": [
    {
     "name": "stdout",
     "output_type": "stream",
     "text": [
      "41\n",
      "41\n",
      "46\n",
      "46\n",
      "56\n",
      "56\n"
     ]
    }
   ],
   "source": [
    "# For Male Category1\n",
    "get_non_siamese_pairs_male_train('./train/1/Male/Category1/','./train/2/Male/Category1/')\n",
    "print(len(non_siamese_pairs_1))\n",
    "print(len(non_siamese_pairs_2))\n",
    "# For Male Category2\n",
    "get_non_siamese_pairs_male_train('./train/1/Male/Category2/','./train/2/Male/Category2/')\n",
    "print(len(non_siamese_pairs_1))\n",
    "print(len(non_siamese_pairs_2))\n",
    "# For Male Category3\n",
    "get_non_siamese_pairs_male_train('./train/1/Male/Category3/','./train/2/Male/Category3/')\n",
    "print(len(non_siamese_pairs_1))\n",
    "print(len(non_siamese_pairs_2))"
   ]
  },
  {
   "cell_type": "code",
   "execution_count": 20,
   "metadata": {},
   "outputs": [],
   "source": [
    "def get_non_siamese_pairs_female_validation(path1,path2):\n",
    "    dirs1 = os.listdir(path1)\n",
    "    dirs2=  os.listdir(path2)\n",
    "    for item in dirs1:\n",
    "        if(os.path.isfile(path1+item)):\n",
    "            li_1=[]\n",
    "            li_2=[]\n",
    "            for item2 in dirs2:\n",
    "                if(os.path.isfile(path2+item2)):\n",
    "                    f1, e1 = os.path.splitext(path1+item)\n",
    "                    f2, e2 = os.path.splitext(path2+item2)\n",
    "                    if f1[31:-2] != f2[31:-2]:\n",
    "                        img1 = image.load_img(path1+item, target_size=(224, 224))\n",
    "                        img2 = image.load_img(path2+item2, target_size=(224,224))\n",
    "                        x1 = image.img_to_array(img1)\n",
    "                        x2 = image.img_to_array(img2)\n",
    "                        x1 = preprocess_input(x1)\n",
    "                        x2 = preprocess_input(x2)\n",
    "                        x1 = x1/255\n",
    "                        x2 = x2/255\n",
    "                        li_1.append(x1)\n",
    "                        li_2.append(x2)\n",
    "            n=random.randint(0,len(li_1)-1)\n",
    "            non_siamese_pairs_1.append(li_1[n])\n",
    "            non_siamese_pairs_2.append(li_2[n])"
   ]
  },
  {
   "cell_type": "code",
   "execution_count": 21,
   "metadata": {},
   "outputs": [
    {
     "name": "stdout",
     "output_type": "stream",
     "text": [
      "63\n",
      "63\n",
      "70\n",
      "70\n",
      "80\n",
      "80\n"
     ]
    }
   ],
   "source": [
    "# For Female Category1\n",
    "get_non_siamese_pairs_female_validation('./validation/1/Female/Category1/','./validation/2/Female/Category1/')\n",
    "print(len(non_siamese_pairs_1))\n",
    "print(len(non_siamese_pairs_2))\n",
    "# For Female Category2\n",
    "get_non_siamese_pairs_female_validation('./validation/1/Female/Category2/','./validation/2/Female/Category2/')\n",
    "print(len(non_siamese_pairs_1))\n",
    "print(len(non_siamese_pairs_2))\n",
    "# For Female Category3\n",
    "get_non_siamese_pairs_female_validation('./validation/1/Female/Category3/','./validation/2/Female/Category3/')\n",
    "print(len(non_siamese_pairs_1))\n",
    "print(len(non_siamese_pairs_2))"
   ]
  },
  {
   "cell_type": "code",
   "execution_count": 22,
   "metadata": {},
   "outputs": [],
   "source": [
    "def get_non_siamese_pairs_male_validation(path1,path2):\n",
    "    dirs1 = os.listdir(path1)\n",
    "    dirs2=  os.listdir(path2)\n",
    "    for item in dirs1:\n",
    "        if(os.path.isfile(path1+item)):\n",
    "            li_1=[]\n",
    "            li_2=[]\n",
    "            for item2 in dirs2:\n",
    "                if(os.path.isfile(path2+item2)):\n",
    "                    f1, e1 = os.path.splitext(path1+item)\n",
    "                    f2, e2 = os.path.splitext(path2+item2)\n",
    "                    if f1[29:-2] != f2[29:-2]:\n",
    "                        img1 = image.load_img(path1+item, target_size=(224, 224))\n",
    "                        img2 = image.load_img(path2+item2, target_size=(224,224))\n",
    "                        x1 = image.img_to_array(img1)\n",
    "                        x2 = image.img_to_array(img2)\n",
    "                        x1 = preprocess_input(x1)\n",
    "                        x2 = preprocess_input(x2)\n",
    "                        x1 = x1/255\n",
    "                        x2 = x2/255\n",
    "                        li_1.append(x1)\n",
    "                        li_2.append(x2)\n",
    "            n=random.randint(0,len(li_1)-1)\n",
    "            non_siamese_pairs_1.append(li_1[n])\n",
    "            non_siamese_pairs_2.append(li_2[n])"
   ]
  },
  {
   "cell_type": "code",
   "execution_count": 23,
   "metadata": {},
   "outputs": [
    {
     "name": "stdout",
     "output_type": "stream",
     "text": [
      "85\n",
      "85\n",
      "92\n",
      "92\n",
      "105\n",
      "105\n"
     ]
    }
   ],
   "source": [
    "# For Male Category1\n",
    "get_non_siamese_pairs_male_validation('./validation/1/Male/Category1/','./validation/2/Male/Category1/')\n",
    "print(len(non_siamese_pairs_1))\n",
    "print(len(non_siamese_pairs_2))\n",
    "# For Male Category2\n",
    "get_non_siamese_pairs_male_validation('./validation/1/Male/Category2/','./validation/2/Male/Category2/')\n",
    "print(len(non_siamese_pairs_1))\n",
    "print(len(non_siamese_pairs_2))\n",
    "# For Male Category3\n",
    "get_non_siamese_pairs_male_validation('./validation/1/Male/Category3/','./validation/2/Male/Category3/')\n",
    "print(len(non_siamese_pairs_1))\n",
    "print(len(non_siamese_pairs_2))"
   ]
  },
  {
   "cell_type": "code",
   "execution_count": 24,
   "metadata": {},
   "outputs": [],
   "source": [
    "labels=[]\n",
    "for item in siamese_pairs_1:\n",
    "    labels.append(1)\n",
    "for item in non_siamese_pairs_1:\n",
    "    labels.append(0)"
   ]
  },
  {
   "cell_type": "code",
   "execution_count": 25,
   "metadata": {},
   "outputs": [],
   "source": [
    "pairs_1 = siamese_pairs_1 + non_siamese_pairs_1\n",
    "pairs_2 = siamese_pairs_2 + non_siamese_pairs_2"
   ]
  },
  {
   "cell_type": "code",
   "execution_count": 26,
   "metadata": {},
   "outputs": [],
   "source": [
    "#from keras.utils import np_utils\n",
    "#num_classes=2\n",
    "#Y = np_utils.to_categorical(labels, num_classes)\n",
    "Y = labels"
   ]
  },
  {
   "cell_type": "code",
   "execution_count": 27,
   "metadata": {},
   "outputs": [],
   "source": [
    "#Shuffle the dataset\n",
    "pairs1,pairs2,y = shuffle(pairs_1,pairs_2,Y, random_state=2)"
   ]
  },
  {
   "cell_type": "code",
   "execution_count": 28,
   "metadata": {},
   "outputs": [
    {
     "data": {
      "text/plain": [
       "210"
      ]
     },
     "execution_count": 28,
     "metadata": {},
     "output_type": "execute_result"
    }
   ],
   "source": [
    "len(pairs_1)"
   ]
  },
  {
   "cell_type": "code",
   "execution_count": 29,
   "metadata": {},
   "outputs": [],
   "source": [
    "Xtrain1 = pairs1[:150]\n",
    "Xtrain2 = pairs2[:150]\n",
    "ytrain = y[:150]"
   ]
  },
  {
   "cell_type": "code",
   "execution_count": 30,
   "metadata": {},
   "outputs": [],
   "source": [
    "Xtest1 = pairs1[150:]\n",
    "Xtest2 = pairs2[150:]\n",
    "ytest = y[150:]"
   ]
  },
  {
   "cell_type": "code",
   "execution_count": 31,
   "metadata": {},
   "outputs": [
    {
     "data": {
      "text/plain": [
       "(150, 224, 224, 3)"
      ]
     },
     "execution_count": 31,
     "metadata": {},
     "output_type": "execute_result"
    }
   ],
   "source": [
    "Xtrain1 = np.array([Xtrain1]).reshape(150,224,224,3)\n",
    "Xtrain1.shape"
   ]
  },
  {
   "cell_type": "code",
   "execution_count": 32,
   "metadata": {},
   "outputs": [
    {
     "data": {
      "text/plain": [
       "(150, 224, 224, 3)"
      ]
     },
     "execution_count": 32,
     "metadata": {},
     "output_type": "execute_result"
    }
   ],
   "source": [
    "Xtrain2 = np.array([Xtrain2]).reshape(150,224,224,3)\n",
    "Xtrain2.shape"
   ]
  },
  {
   "cell_type": "code",
   "execution_count": 89,
   "metadata": {},
   "outputs": [
    {
     "name": "stdout",
     "output_type": "stream",
     "text": [
      "Train on 100 samples, validate on 50 samples\n",
      "Epoch 1/10\n",
      " - 199s - loss: 0.6465 - acc: 0.7100 - val_loss: 0.7130 - val_acc: 0.4600\n",
      "Epoch 2/10\n",
      " - 212s - loss: 0.6458 - acc: 0.6100 - val_loss: 0.7110 - val_acc: 0.4600\n",
      "Epoch 3/10\n",
      " - 220s - loss: 0.6372 - acc: 0.6500 - val_loss: 0.7227 - val_acc: 0.4600\n",
      "Epoch 4/10\n",
      " - 216s - loss: 0.6173 - acc: 0.6300 - val_loss: 0.7329 - val_acc: 0.4600\n",
      "Epoch 5/10\n",
      " - 221s - loss: 0.6183 - acc: 0.6200 - val_loss: 0.7289 - val_acc: 0.4600\n",
      "Epoch 6/10\n",
      " - 224s - loss: 0.5996 - acc: 0.6500 - val_loss: 0.7303 - val_acc: 0.4600\n",
      "Epoch 7/10\n",
      " - 207s - loss: 0.5839 - acc: 0.7400 - val_loss: 0.7568 - val_acc: 0.4600\n",
      "Epoch 8/10\n",
      " - 197s - loss: 0.5620 - acc: 0.6800 - val_loss: 0.7540 - val_acc: 0.4600\n",
      "Epoch 9/10\n",
      " - 209s - loss: 0.5452 - acc: 0.7200 - val_loss: 0.7518 - val_acc: 0.4600\n",
      "Epoch 10/10\n",
      " - 210s - loss: 0.5363 - acc: 0.7700 - val_loss: 0.7540 - val_acc: 0.4400\n",
      "Training time: -2117.3476691246033\n"
     ]
    }
   ],
   "source": [
    "t = time.time()\n",
    "hist = siamese_net.fit([Xtrain1,Xtrain2], ytrain, batch_size=32, epochs=10, verbose=2,validation_split = 0.33)\n",
    "#(loss, accuracy) = siamese_net.evaluate(X_test, y_test, batch_size=10, verbose=1)\n",
    "#print(\"[INFO] loss={:.4f}, accuracy: {:.4f}%\".format(loss,accuracy * 100))\n",
    "print('Training time: %s' % (t - time.time()))"
   ]
  },
  {
   "cell_type": "code",
   "execution_count": 90,
   "metadata": {},
   "outputs": [],
   "source": [
    "r1 = siamese_net.predict([siamese_pairs_1,siamese_pairs_2])"
   ]
  },
  {
   "cell_type": "code",
   "execution_count": 91,
   "metadata": {},
   "outputs": [],
   "source": [
    "r2 = siamese_net.predict([non_siamese_pairs_1,non_siamese_pairs_2])"
   ]
  },
  {
   "cell_type": "code",
   "execution_count": 113,
   "metadata": {},
   "outputs": [
    {
     "data": {
      "text/plain": [
       "0.7333333333333333"
      ]
     },
     "execution_count": 113,
     "metadata": {},
     "output_type": "execute_result"
    }
   ],
   "source": [
    "len(r1[r1>=0.385])/len(r1)"
   ]
  },
  {
   "cell_type": "code",
   "execution_count": 112,
   "metadata": {},
   "outputs": [
    {
     "data": {
      "text/plain": [
       "0.6476190476190476"
      ]
     },
     "execution_count": 112,
     "metadata": {},
     "output_type": "execute_result"
    }
   ],
   "source": [
    "len(r2[r2<0.385])/len(r2)"
   ]
  },
  {
   "cell_type": "code",
   "execution_count": null,
   "metadata": {},
   "outputs": [],
   "source": []
  }
 ],
 "metadata": {
  "kernelspec": {
   "display_name": "Python 3",
   "language": "python",
   "name": "python3"
  },
  "language_info": {
   "codemirror_mode": {
    "name": "ipython",
    "version": 3
   },
   "file_extension": ".py",
   "mimetype": "text/x-python",
   "name": "python",
   "nbconvert_exporter": "python",
   "pygments_lexer": "ipython3",
   "version": "3.6.8"
  }
 },
 "nbformat": 4,
 "nbformat_minor": 2
}
