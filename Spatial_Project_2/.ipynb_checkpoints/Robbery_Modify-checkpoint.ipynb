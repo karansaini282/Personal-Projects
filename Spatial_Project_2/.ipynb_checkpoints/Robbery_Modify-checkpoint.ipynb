{
 "cells": [
  {
   "cell_type": "code",
   "execution_count": 13,
   "metadata": {},
   "outputs": [],
   "source": [
    "import pandas as pd\n",
    "import geopandas as gpd\n",
    "from fiona.crs import from_epsg\n",
    "import matplotlib as plt\n",
    "import shapely\n",
    "\n",
    "%matplotlib inline"
   ]
  },
  {
   "cell_type": "code",
   "execution_count": 14,
   "metadata": {},
   "outputs": [],
   "source": [
    "df = pd.read_csv(\"NYC_Robberies.csv\")"
   ]
  },
  {
   "cell_type": "code",
   "execution_count": 15,
   "metadata": {},
   "outputs": [],
   "source": [
    "df[\"Count\"] = 1"
   ]
  },
  {
   "cell_type": "code",
   "execution_count": 16,
   "metadata": {},
   "outputs": [],
   "source": [
    "def get_longitude(x):\n",
    "    return float(str(x).split(\" \")[1][1:])\n",
    "\n",
    "def get_latitude(x):\n",
    "    return float(str(x).split(\" \")[2][:-1])\n",
    "    \n",
    "df['Latitude'] = df['geometry'].map(get_latitude)\n",
    "df['Longitude'] = df['geometry'].map(get_longitude)\n",
    "df.drop(columns=[\"geometry\"],inplace=True)\n",
    "df['lonlat'] = list(zip(df.Longitude,df.Latitude))\n",
    "df['geometry'] = df[['lonlat']].applymap(lambda x:shapely.geometry.Point(x))\n",
    "df.drop(columns=[\"lonlat\",\"Latitude\",\"Longitude\"],inplace=True)"
   ]
  },
  {
   "cell_type": "code",
   "execution_count": 17,
   "metadata": {},
   "outputs": [],
   "source": [
    "df = gpd.GeoDataFrame(df)\n",
    "df.crs = from_epsg(4326)"
   ]
  },
  {
   "cell_type": "code",
   "execution_count": 18,
   "metadata": {},
   "outputs": [
    {
     "data": {
      "text/html": [
       "<div>\n",
       "<style scoped>\n",
       "    .dataframe tbody tr th:only-of-type {\n",
       "        vertical-align: middle;\n",
       "    }\n",
       "\n",
       "    .dataframe tbody tr th {\n",
       "        vertical-align: top;\n",
       "    }\n",
       "\n",
       "    .dataframe thead th {\n",
       "        text-align: right;\n",
       "    }\n",
       "</style>\n",
       "<table border=\"1\" class=\"dataframe\">\n",
       "  <thead>\n",
       "    <tr style=\"text-align: right;\">\n",
       "      <th></th>\n",
       "      <th>Unnamed: 0</th>\n",
       "      <th>CMPLNT_FR_DT</th>\n",
       "      <th>CMPLNT_FR_TM</th>\n",
       "      <th>OFNS_DESC</th>\n",
       "      <th>Count</th>\n",
       "      <th>geometry</th>\n",
       "    </tr>\n",
       "  </thead>\n",
       "  <tbody>\n",
       "    <tr>\n",
       "      <th>0</th>\n",
       "      <td>1302585</td>\n",
       "      <td>12/31/2016</td>\n",
       "      <td>03:45:00</td>\n",
       "      <td>ROBBERY</td>\n",
       "      <td>1</td>\n",
       "      <td>POINT (-73.73948955100001 40.715536145)</td>\n",
       "    </tr>\n",
       "    <tr>\n",
       "      <th>1</th>\n",
       "      <td>1302597</td>\n",
       "      <td>12/31/2016</td>\n",
       "      <td>03:20:00</td>\n",
       "      <td>ROBBERY</td>\n",
       "      <td>1</td>\n",
       "      <td>POINT (-73.88172567699999 40.831296275)</td>\n",
       "    </tr>\n",
       "    <tr>\n",
       "      <th>2</th>\n",
       "      <td>1302614</td>\n",
       "      <td>12/31/2016</td>\n",
       "      <td>03:00:00</td>\n",
       "      <td>ROBBERY</td>\n",
       "      <td>1</td>\n",
       "      <td>POINT (-73.862505072 40.756107693)</td>\n",
       "    </tr>\n",
       "    <tr>\n",
       "      <th>3</th>\n",
       "      <td>1302616</td>\n",
       "      <td>12/31/2016</td>\n",
       "      <td>03:00:00</td>\n",
       "      <td>ROBBERY</td>\n",
       "      <td>1</td>\n",
       "      <td>POINT (-73.988817939 40.720891684)</td>\n",
       "    </tr>\n",
       "    <tr>\n",
       "      <th>4</th>\n",
       "      <td>1302620</td>\n",
       "      <td>12/31/2016</td>\n",
       "      <td>03:00:00</td>\n",
       "      <td>ROBBERY</td>\n",
       "      <td>1</td>\n",
       "      <td>POINT (-73.90882682500001 40.694632638)</td>\n",
       "    </tr>\n",
       "  </tbody>\n",
       "</table>\n",
       "</div>"
      ],
      "text/plain": [
       "   Unnamed: 0 CMPLNT_FR_DT CMPLNT_FR_TM OFNS_DESC  Count  \\\n",
       "0     1302585   12/31/2016     03:45:00   ROBBERY      1   \n",
       "1     1302597   12/31/2016     03:20:00   ROBBERY      1   \n",
       "2     1302614   12/31/2016     03:00:00   ROBBERY      1   \n",
       "3     1302616   12/31/2016     03:00:00   ROBBERY      1   \n",
       "4     1302620   12/31/2016     03:00:00   ROBBERY      1   \n",
       "\n",
       "                                  geometry  \n",
       "0  POINT (-73.73948955100001 40.715536145)  \n",
       "1  POINT (-73.88172567699999 40.831296275)  \n",
       "2       POINT (-73.862505072 40.756107693)  \n",
       "3       POINT (-73.988817939 40.720891684)  \n",
       "4  POINT (-73.90882682500001 40.694632638)  "
      ]
     },
     "execution_count": 18,
     "metadata": {},
     "output_type": "execute_result"
    }
   ],
   "source": [
    "df.head()"
   ]
  },
  {
   "cell_type": "code",
   "execution_count": 19,
   "metadata": {},
   "outputs": [],
   "source": [
    "df.to_file('NYC_Robberies.shp', driver='ESRI Shapefile')"
   ]
  },
  {
   "cell_type": "code",
   "execution_count": 20,
   "metadata": {},
   "outputs": [
    {
     "data": {
      "text/plain": [
       "<matplotlib.axes._subplots.AxesSubplot at 0x7878160>"
      ]
     },
     "execution_count": 20,
     "metadata": {},
     "output_type": "execute_result"
    },
    {
     "data": {
      "image/png": "[encoded data removed]",
      "text/plain": [
       "<matplotlib.figure.Figure at 0x7878eb8>"
      ]
     },
     "metadata": {},
     "output_type": "display_data"
    }
   ],
   "source": [
    "df.plot()"
   ]
  }
 ],
 "metadata": {
  "kernelspec": {
   "display_name": "Python 3",
   "language": "python",
   "name": "python3"
  },
  "language_info": {
   "codemirror_mode": {
    "name": "ipython",
    "version": 3
   },
   "file_extension": ".py",
   "mimetype": "text/x-python",
   "name": "python",
   "nbconvert_exporter": "python",
   "pygments_lexer": "ipython3",
   "version": "3.6.4"
  }
 },
 "nbformat": 4,
 "nbformat_minor": 2
}
