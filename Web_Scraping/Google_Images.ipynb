{
 "cells": [
  {
   "cell_type": "code",
   "execution_count": 1,
   "metadata": {},
   "outputs": [],
   "source": [
    "import urllib\n",
    "from bs4 import BeautifulSoup\n",
    "from selenium import webdriver\n",
    "from selenium.webdriver.common.keys import Keys\n",
    "from selenium.webdriver.common.actions import key_input,mouse_button\n",
    "from selenium.webdriver.common.action_chains import ActionChains\n",
    "import re\n",
    "import pandas as pd\n",
    "\n",
    "try:\n",
    "    from urllib import urlretrieve as urlretrieve\n",
    "except ImportError:\n",
    "    from urllib.request import urlretrieve as urlretrieve\n",
    "\n",
    "search = \"services sign on road\"\n",
    "limit = 300"
   ]
  },
  {
   "cell_type": "code",
   "execution_count": 2,
   "metadata": {},
   "outputs": [],
   "source": [
    "URL = \"https://www.google.com/imghp?hl=en&tab=wi&authuser=0\""
   ]
  },
  {
   "cell_type": "code",
   "execution_count": 3,
   "metadata": {},
   "outputs": [],
   "source": [
    "driver = webdriver.Chrome(r\"C:\\Users\\student\\Downloads\\chromedriver.exe\")\n",
    "driver.implicitly_wait(1)\n",
    "driver.get(URL)"
   ]
  },
  {
   "cell_type": "code",
   "execution_count": 4,
   "metadata": {},
   "outputs": [],
   "source": [
    "search_box = driver.find_element_by_name('q')\n",
    "search_box.clear()\n",
    "search_box.send_keys(search)\n",
    "\n",
    "driver.find_element_by_class_name('Tg7LZd').click()"
   ]
  },
  {
   "cell_type": "code",
   "execution_count": 5,
   "metadata": {},
   "outputs": [],
   "source": [
    "while True:\n",
    "    images = driver.find_elements_by_class_name(\"rg_ic\")\n",
    "    if(len(images)>=400):\n",
    "        try:\n",
    "            driver.find_element_by_id('smb').click()\n",
    "        except:\n",
    "            driver.implicitly_wait(1)\n",
    "    ActionChains(driver) \\\n",
    "        .key_down(Keys.PAGE_DOWN) \\\n",
    "        .key_up(Keys.PAGE_DOWN) \\\n",
    "        .perform()\n",
    "    if len(images) >= limit:\n",
    "        break"
   ]
  },
  {
   "cell_type": "code",
   "execution_count": 6,
   "metadata": {},
   "outputs": [],
   "source": [
    "count = limit\n",
    "for i,image in enumerate(images[:limit]):\n",
    "    try:\n",
    "        urlretrieve(image.get_attribute('src'),\"Images/image\"+str(i)+\".png\")\n",
    "    except:\n",
    "        count = count - 1"
   ]
  },
  {
   "cell_type": "code",
   "execution_count": 7,
   "metadata": {},
   "outputs": [
    {
     "name": "stdout",
     "output_type": "stream",
     "text": [
      "Total images downloaded : 236\n"
     ]
    }
   ],
   "source": [
    "print(\"Total images downloaded : {}\".format(count))"
   ]
  },
  {
   "cell_type": "code",
   "execution_count": null,
   "metadata": {},
   "outputs": [],
   "source": []
  }
 ],
 "metadata": {
  "kernelspec": {
   "display_name": "Python 3",
   "language": "python",
   "name": "python3"
  },
  "language_info": {
   "codemirror_mode": {
    "name": "ipython",
    "version": 3
   },
   "file_extension": ".py",
   "mimetype": "text/x-python",
   "name": "python",
   "nbconvert_exporter": "python",
   "pygments_lexer": "ipython3",
   "version": "3.6.4"
  }
 },
 "nbformat": 4,
 "nbformat_minor": 2
}
