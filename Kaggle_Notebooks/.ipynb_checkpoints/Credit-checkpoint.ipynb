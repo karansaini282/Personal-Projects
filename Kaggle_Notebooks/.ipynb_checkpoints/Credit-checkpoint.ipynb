{
 "cells": [
  {
   "cell_type": "code",
   "execution_count": 1,
   "metadata": {},
   "outputs": [
    {
     "data": {
      "text/html": [
       "<div>\n",
       "<table border=\"1\" class=\"dataframe\">\n",
       "  <thead>\n",
       "    <tr style=\"text-align: right;\">\n",
       "      <th></th>\n",
       "      <th>Creditability</th>\n",
       "      <th>Account Balance</th>\n",
       "      <th>Duration of Credit</th>\n",
       "      <th>Payment Status of Previous Credit</th>\n",
       "      <th>Purpose</th>\n",
       "      <th>Credit Amount</th>\n",
       "      <th>Value Savings/Stocks</th>\n",
       "      <th>Length of current employment</th>\n",
       "      <th>Instalment per cent</th>\n",
       "      <th>Sex &amp; Marital Status</th>\n",
       "      <th>Guarantors</th>\n",
       "      <th>Duration in Current address</th>\n",
       "      <th>Most valuable available asset</th>\n",
       "      <th>Age</th>\n",
       "      <th>Concurrent Credits</th>\n",
       "      <th>Type of apartment</th>\n",
       "      <th>No of Credits at this Bank</th>\n",
       "      <th>Occupation</th>\n",
       "      <th>No of dependents</th>\n",
       "      <th>Foreign Worker</th>\n",
       "    </tr>\n",
       "  </thead>\n",
       "  <tbody>\n",
       "    <tr>\n",
       "      <th>0</th>\n",
       "      <td>1</td>\n",
       "      <td>1</td>\n",
       "      <td>18</td>\n",
       "      <td>4</td>\n",
       "      <td>2</td>\n",
       "      <td>1049</td>\n",
       "      <td>1</td>\n",
       "      <td>2</td>\n",
       "      <td>4</td>\n",
       "      <td>2</td>\n",
       "      <td>1</td>\n",
       "      <td>4</td>\n",
       "      <td>2</td>\n",
       "      <td>21</td>\n",
       "      <td>3</td>\n",
       "      <td>1</td>\n",
       "      <td>1</td>\n",
       "      <td>3</td>\n",
       "      <td>1</td>\n",
       "      <td>1</td>\n",
       "    </tr>\n",
       "    <tr>\n",
       "      <th>1</th>\n",
       "      <td>1</td>\n",
       "      <td>1</td>\n",
       "      <td>9</td>\n",
       "      <td>4</td>\n",
       "      <td>0</td>\n",
       "      <td>2799</td>\n",
       "      <td>1</td>\n",
       "      <td>3</td>\n",
       "      <td>2</td>\n",
       "      <td>3</td>\n",
       "      <td>1</td>\n",
       "      <td>2</td>\n",
       "      <td>1</td>\n",
       "      <td>36</td>\n",
       "      <td>3</td>\n",
       "      <td>1</td>\n",
       "      <td>2</td>\n",
       "      <td>3</td>\n",
       "      <td>2</td>\n",
       "      <td>1</td>\n",
       "    </tr>\n",
       "    <tr>\n",
       "      <th>2</th>\n",
       "      <td>1</td>\n",
       "      <td>2</td>\n",
       "      <td>12</td>\n",
       "      <td>2</td>\n",
       "      <td>9</td>\n",
       "      <td>841</td>\n",
       "      <td>2</td>\n",
       "      <td>4</td>\n",
       "      <td>2</td>\n",
       "      <td>2</td>\n",
       "      <td>1</td>\n",
       "      <td>4</td>\n",
       "      <td>1</td>\n",
       "      <td>23</td>\n",
       "      <td>3</td>\n",
       "      <td>1</td>\n",
       "      <td>1</td>\n",
       "      <td>2</td>\n",
       "      <td>1</td>\n",
       "      <td>1</td>\n",
       "    </tr>\n",
       "    <tr>\n",
       "      <th>3</th>\n",
       "      <td>1</td>\n",
       "      <td>1</td>\n",
       "      <td>12</td>\n",
       "      <td>4</td>\n",
       "      <td>0</td>\n",
       "      <td>2122</td>\n",
       "      <td>1</td>\n",
       "      <td>3</td>\n",
       "      <td>3</td>\n",
       "      <td>3</td>\n",
       "      <td>1</td>\n",
       "      <td>2</td>\n",
       "      <td>1</td>\n",
       "      <td>39</td>\n",
       "      <td>3</td>\n",
       "      <td>1</td>\n",
       "      <td>2</td>\n",
       "      <td>2</td>\n",
       "      <td>2</td>\n",
       "      <td>2</td>\n",
       "    </tr>\n",
       "    <tr>\n",
       "      <th>4</th>\n",
       "      <td>1</td>\n",
       "      <td>1</td>\n",
       "      <td>12</td>\n",
       "      <td>4</td>\n",
       "      <td>0</td>\n",
       "      <td>2171</td>\n",
       "      <td>1</td>\n",
       "      <td>3</td>\n",
       "      <td>4</td>\n",
       "      <td>3</td>\n",
       "      <td>1</td>\n",
       "      <td>4</td>\n",
       "      <td>2</td>\n",
       "      <td>38</td>\n",
       "      <td>1</td>\n",
       "      <td>2</td>\n",
       "      <td>2</td>\n",
       "      <td>2</td>\n",
       "      <td>1</td>\n",
       "      <td>2</td>\n",
       "    </tr>\n",
       "  </tbody>\n",
       "</table>\n",
       "</div>"
      ],
      "text/plain": [
       "   Creditability  Account Balance  Duration of Credit  \\\n",
       "0              1                1                  18   \n",
       "1              1                1                   9   \n",
       "2              1                2                  12   \n",
       "3              1                1                  12   \n",
       "4              1                1                  12   \n",
       "\n",
       "   Payment Status of Previous Credit  Purpose  Credit Amount  \\\n",
       "0                                  4        2           1049   \n",
       "1                                  4        0           2799   \n",
       "2                                  2        9            841   \n",
       "3                                  4        0           2122   \n",
       "4                                  4        0           2171   \n",
       "\n",
       "   Value Savings/Stocks  Length of current employment  Instalment per cent  \\\n",
       "0                     1                             2                    4   \n",
       "1                     1                             3                    2   \n",
       "2                     2                             4                    2   \n",
       "3                     1                             3                    3   \n",
       "4                     1                             3                    4   \n",
       "\n",
       "   Sex & Marital Status  Guarantors  Duration in Current address  \\\n",
       "0                     2           1                            4   \n",
       "1                     3           1                            2   \n",
       "2                     2           1                            4   \n",
       "3                     3           1                            2   \n",
       "4                     3           1                            4   \n",
       "\n",
       "   Most valuable available asset  Age  Concurrent Credits  Type of apartment  \\\n",
       "0                              2   21                   3                  1   \n",
       "1                              1   36                   3                  1   \n",
       "2                              1   23                   3                  1   \n",
       "3                              1   39                   3                  1   \n",
       "4                              2   38                   1                  2   \n",
       "\n",
       "   No of Credits at this Bank  Occupation  No of dependents  Foreign Worker  \n",
       "0                           1           3                 1               1  \n",
       "1                           2           3                 2               1  \n",
       "2                           1           2                 1               1  \n",
       "3                           2           2                 2               2  \n",
       "4                           2           2                 1               2  "
      ]
     },
     "execution_count": 1,
     "metadata": {},
     "output_type": "execute_result"
    }
   ],
   "source": [
    "import matplotlib.pyplot as plt\n",
    "%matplotlib inline\n",
    "\n",
    "import numpy as np\n",
    "import pandas as pd\n",
    "import itertools\n",
    "import time\n",
    "\n",
    "from sklearn.model_selection import train_test_split\n",
    "from sklearn.ensemble import RandomForestClassifier\n",
    "from sklearn.tree import DecisionTreeClassifier\n",
    "from sklearn.metrics import accuracy_score\n",
    "\n",
    "#ignore warnings\n",
    "import warnings\n",
    "warnings.filterwarnings('ignore')\n",
    "\n",
    "data_dir = '../input/Credit/'\n",
    "\n",
    "balance_data = pd.read_csv(data_dir + 'german_credit.csv',sep= ',', header=0)\n",
    "balance_data.head()"
   ]
  },
  {
   "cell_type": "code",
   "execution_count": 2,
   "metadata": {},
   "outputs": [
    {
     "name": "stdout",
     "output_type": "stream",
     "text": [
      "Accuracy on training set: 0.873\n",
      "Accuracy on test set: 0.697\n"
     ]
    }
   ],
   "source": [
    "X = balance_data.values[:, balance_data.columns!='Creditability']    \n",
    "Y = balance_data.values[:,0]\n",
    "\n",
    "X_train, X_test, y_train, y_test = train_test_split( X, Y, test_size = 0.3)\n",
    "\n",
    "gbrt = RandomForestClassifier(n_estimators=2000,max_features=6,max_depth=6)\n",
    "gbrt.fit(X_train,y_train)\n",
    "\n",
    "print(\"Accuracy on training set: {:.3f}\".format(gbrt.score(X_train,y_train)))\n",
    "print(\"Accuracy on test set: {:.3f}\".format(gbrt.score(X_test,y_test)))"
   ]
  },
  {
   "cell_type": "code",
   "execution_count": 3,
   "metadata": {},
   "outputs": [
    {
     "data": {
      "image/png": "[encoded data removed]",
      "text/plain": [
       "<matplotlib.figure.Figure at 0xa87cf60>"
      ]
     },
     "metadata": {},
     "output_type": "display_data"
    }
   ],
   "source": [
    "importances = gbrt.feature_importances_\n",
    "indices = np.argsort(importances)\n",
    "features = balance_data.columns[balance_data.columns!='Creditability']\n",
    "\n",
    "plt.title('Feature Importances')\n",
    "plt.barh(range(len(indices)), importances[indices], color='b', align='center')\n",
    "plt.yticks(range(len(indices)), features[indices])\n",
    "plt.xlabel('Relative Importance')\n",
    "plt.show()"
   ]
  },
  {
   "cell_type": "code",
   "execution_count": 4,
   "metadata": {},
   "outputs": [
    {
     "data": {
      "image/png": "[encoded data removed]",
      "text/plain": [
       "<matplotlib.figure.Figure at 0x94ac6d8>"
      ]
     },
     "metadata": {},
     "output_type": "display_data"
    }
   ],
   "source": [
    "def findsubsets(S,m):\n",
    "    return set(itertools.combinations(S, m))\n",
    "counts = dict()\n",
    "\n",
    "start_time = time.perf_counter()\n",
    "\n",
    "for i in range(100):\n",
    "    accuracy = 0\n",
    "    data_length=19\n",
    "    best_set = []\n",
    "    list1 = list(range(1,20))\n",
    "\n",
    "    for i in range(data_length-1,0,-1):\n",
    "        columns_set = findsubsets(iter(list1),i)\n",
    "        flag=0\n",
    "        \n",
    "        for x_set in columns_set:        \n",
    "            \n",
    "            X = balance_data.values[:, x_set]    \n",
    "            Y = balance_data.values[:,0]\n",
    "\n",
    "            X_train, X_test, y_train, y_test = train_test_split( X, Y, test_size = 0.3)\n",
    "\n",
    "            clf_gini = DecisionTreeClassifier(criterion = \"gini\", random_state = 100, max_depth=3, min_samples_leaf=5)\n",
    "            clf_gini.fit(X_train, y_train)\n",
    "\n",
    "            y_pred = clf_gini.predict(X_test)\n",
    "            set_gini_accuracy = accuracy_score(y_test,y_pred)*100\n",
    "            \n",
    "            if(set_gini_accuracy>=accuracy):\n",
    "                accuracy = set_gini_accuracy\n",
    "                best_set = x_set\n",
    "                flag=1\n",
    "            \n",
    "            clf_entropy = DecisionTreeClassifier(criterion = \"entropy\", random_state = 100, max_depth=3, min_samples_leaf=5)            \n",
    "            clf_entropy.fit(X_train, y_train)\n",
    "\n",
    "            y_pred_en = clf_entropy.predict(X_test)\n",
    "            set_entropy_accuracy = accuracy_score(y_test,y_pred_en)*100\n",
    "\n",
    "            if(set_entropy_accuracy>=accuracy):\n",
    "                accuracy = set_entropy_accuracy\n",
    "                best_set = x_set\n",
    "                flag=1        \n",
    "\n",
    "        if flag==1:\n",
    "            list1=list(best_set)    \n",
    "\n",
    "    for x in best_set:\n",
    "        counts[x] = counts.get(x, 0) + 1\n",
    "\n",
    "features = balance_data.columns[balance_data.columns!='Creditability']\n",
    "counts_arr = []\n",
    "\n",
    "for i in range(1,20):\n",
    "    counts_arr = np.append(counts_arr,counts.get(i, 0))\n",
    "\n",
    "plt.title('Feature Counts')\n",
    "plt.barh(range(1,20), counts_arr, color='b', align='center')\n",
    "plt.yticks(range(1,20), features)\n",
    "plt.xlabel('Relative Importance')\n",
    "plt.show()"
   ]
  },
  {
   "cell_type": "code",
   "execution_count": 5,
   "metadata": {},
   "outputs": [
    {
     "name": "stdout",
     "output_type": "stream",
     "text": [
      "Total time for feautre analysis 2 is 1720.11 seconds\n"
     ]
    }
   ],
   "source": [
    "total_time = time.perf_counter() - start_time\n",
    "print(\"Total time for feautre analysis 2 is {:.2f} seconds\".format(total_time))"
   ]
  },
  {
   "cell_type": "code",
   "execution_count": 6,
   "metadata": {},
   "outputs": [
    {
     "data": {
      "image/png": "[encoded data removed]",
      "text/plain": [
       "<matplotlib.figure.Figure at 0xa798358>"
      ]
     },
     "metadata": {},
     "output_type": "display_data"
    }
   ],
   "source": [
    "list_index = [1,2,3,5,6,12]\n",
    "\n",
    "X = balance_data.iloc[:,list_index]\n",
    "y = balance_data.iloc[:,0]\n",
    "start_time = time.perf_counter()\n",
    "\n",
    "plt.figure()\n",
    "plt.xlabel('Iterations')\n",
    "plt.ylabel('Accuracy')\n",
    "scores = []\n",
    "for i in range(100):\n",
    "    X_train, X_test, y_train, y_test = train_test_split(X, y,test_size=0.3)\n",
    "    gbrt = RandomForestClassifier(n_estimators=2000,max_depth=7)\n",
    "    gbrt.fit(X_train,y_train)    \n",
    "    scores.append(gbrt.score(X_test,y_test))            \n",
    "plt.scatter(range(100), scores,color='b')\n",
    "plt.axhline(y=np.mean(scores), color='r', linestyle='-')\n",
    "plt.xticks(np.arange(0,100,5))\n",
    "plt.show()"
   ]
  },
  {
   "cell_type": "code",
   "execution_count": 7,
   "metadata": {},
   "outputs": [
    {
     "name": "stdout",
     "output_type": "stream",
     "text": [
      "Total time for 100 random forest model on transactions data is 463.37 seconds\n"
     ]
    }
   ],
   "source": [
    "total_time = time.perf_counter() - start_time\n",
    "print(\"Total time for 100 random forest model on transactions data is {:.2f} seconds\".format(total_time))"
   ]
  },
  {
   "cell_type": "code",
   "execution_count": 8,
   "metadata": {},
   "outputs": [
    {
     "data": {
      "text/html": [
       "<div>\n",
       "<table border=\"1\" class=\"dataframe\">\n",
       "  <thead>\n",
       "    <tr style=\"text-align: right;\">\n",
       "      <th></th>\n",
       "      <th>friendsInMetro</th>\n",
       "      <th>livingInMetro</th>\n",
       "      <th>spendingHabit</th>\n",
       "      <th>recentPurchases</th>\n",
       "      <th>currentEmployment</th>\n",
       "      <th>creditability</th>\n",
       "    </tr>\n",
       "  </thead>\n",
       "  <tbody>\n",
       "    <tr>\n",
       "      <th>0</th>\n",
       "      <td>16</td>\n",
       "      <td>0</td>\n",
       "      <td>10</td>\n",
       "      <td>9</td>\n",
       "      <td>8</td>\n",
       "      <td>1.0</td>\n",
       "    </tr>\n",
       "    <tr>\n",
       "      <th>1</th>\n",
       "      <td>3</td>\n",
       "      <td>0</td>\n",
       "      <td>1</td>\n",
       "      <td>2</td>\n",
       "      <td>9</td>\n",
       "      <td>0.0</td>\n",
       "    </tr>\n",
       "    <tr>\n",
       "      <th>2</th>\n",
       "      <td>4</td>\n",
       "      <td>1</td>\n",
       "      <td>7</td>\n",
       "      <td>2</td>\n",
       "      <td>4</td>\n",
       "      <td>1.0</td>\n",
       "    </tr>\n",
       "    <tr>\n",
       "      <th>3</th>\n",
       "      <td>19</td>\n",
       "      <td>0</td>\n",
       "      <td>7</td>\n",
       "      <td>6</td>\n",
       "      <td>3</td>\n",
       "      <td>1.0</td>\n",
       "    </tr>\n",
       "    <tr>\n",
       "      <th>4</th>\n",
       "      <td>11</td>\n",
       "      <td>1</td>\n",
       "      <td>5</td>\n",
       "      <td>10</td>\n",
       "      <td>5</td>\n",
       "      <td>1.0</td>\n",
       "    </tr>\n",
       "  </tbody>\n",
       "</table>\n",
       "</div>"
      ],
      "text/plain": [
       "   friendsInMetro  livingInMetro  spendingHabit  recentPurchases  \\\n",
       "0              16              0             10                9   \n",
       "1               3              0              1                2   \n",
       "2               4              1              7                2   \n",
       "3              19              0              7                6   \n",
       "4              11              1              5               10   \n",
       "\n",
       "   currentEmployment  creditability  \n",
       "0                  8            1.0  \n",
       "1                  9            0.0  \n",
       "2                  4            1.0  \n",
       "3                  3            1.0  \n",
       "4                  5            1.0  "
      ]
     },
     "execution_count": 8,
     "metadata": {},
     "output_type": "execute_result"
    }
   ],
   "source": [
    "social_data = pd.read_csv('../input/Credit/' + 'auto_credit.csv',sep= ',', header=0,index_col=0)\n",
    "social_data.head()"
   ]
  },
  {
   "cell_type": "code",
   "execution_count": 9,
   "metadata": {},
   "outputs": [
    {
     "data": {
      "image/png": "[encoded data removed]",
      "text/plain": [
       "<matplotlib.figure.Figure at 0xa793128>"
      ]
     },
     "metadata": {},
     "output_type": "display_data"
    }
   ],
   "source": [
    "X_train2 = social_data.iloc[:,social_data.columns!='creditability']\n",
    "y_train2 = social_data['creditability']\n",
    "start_time = time.perf_counter()\n",
    "\n",
    "plt.figure()\n",
    "plt.xlabel('Iterations')\n",
    "plt.ylabel('Accuracy')\n",
    "scores = []\n",
    "for i in range(100):\n",
    "    X_train, X_test, y_train, y_test = train_test_split(X_train2, y_train2,test_size=0.3)\n",
    "    gbrt = RandomForestClassifier(n_estimators=2000,max_depth=7)\n",
    "    gbrt.fit(X_train,y_train)    \n",
    "    scores.append(gbrt.score(X_test,y_test))            \n",
    "plt.scatter(range(100), scores,color='b')\n",
    "plt.axhline(y=np.mean(scores), color='r', linestyle='-')\n",
    "plt.xticks(np.arange(0,100,5))\n",
    "plt.show()"
   ]
  },
  {
   "cell_type": "code",
   "execution_count": 10,
   "metadata": {},
   "outputs": [
    {
     "name": "stdout",
     "output_type": "stream",
     "text": [
      "Total time for 100 random forest model on social data is 436.68 seconds\n"
     ]
    }
   ],
   "source": [
    "total_time = time.perf_counter() - start_time\n",
    "print(\"Total time for 100 random forest model on social data is {:.2f} seconds\".format(total_time))"
   ]
  },
  {
   "cell_type": "code",
   "execution_count": 11,
   "metadata": {},
   "outputs": [
    {
     "data": {
      "text/plain": [
       "array([0.79915941, 0.44205717, 0.82824421, 0.79029505, 0.87295884])"
      ]
     },
     "execution_count": 11,
     "metadata": {},
     "output_type": "execute_result"
    }
   ],
   "source": [
    "gbrt1 = RandomForestClassifier(n_estimators=2000,max_depth=7)\n",
    "gbrt1.fit(X,y)\n",
    "gbrt2 = RandomForestClassifier(n_estimators=2000,max_depth=7)\n",
    "gbrt2.fit(X_train2,y_train2)\n",
    "\n",
    "pred1 = gbrt1.predict_proba(X)[:,1]\n",
    "pred2 = gbrt2.predict_proba(X_train2)[:,1]\n",
    "\n",
    "pred3= (pred1 + pred2)/2\n",
    "pred3[0:5]"
   ]
  },
  {
   "cell_type": "code",
   "execution_count": 13,
   "metadata": {},
   "outputs": [
    {
     "data": {
      "text/plain": [
       "Account Balance                         1\n",
       "Duration of Credit                     18\n",
       "Payment Status of Previous Credit       4\n",
       "Credit Amount                        1049\n",
       "Value Savings/Stocks                    1\n",
       "Most valuable available asset           2\n",
       "Name: 0, dtype: int64"
      ]
     },
     "execution_count": 13,
     "metadata": {},
     "output_type": "execute_result"
    }
   ],
   "source": [
    "X.iloc[0,:]"
   ]
  },
  {
   "cell_type": "code",
   "execution_count": 15,
   "metadata": {},
   "outputs": [
    {
     "data": {
      "text/plain": [
       "array([0.59976156])"
      ]
     },
     "execution_count": 15,
     "metadata": {},
     "output_type": "execute_result"
    }
   ],
   "source": [
    "gbrt1.predict_proba([X.iloc[0,:]])[:,1]"
   ]
  },
  {
   "cell_type": "code",
   "execution_count": 16,
   "metadata": {},
   "outputs": [
    {
     "data": {
      "text/plain": [
       "friendsInMetro       16\n",
       "livingInMetro         0\n",
       "spendingHabit        10\n",
       "recentPurchases       9\n",
       "currentEmployment     8\n",
       "Name: 0, dtype: int64"
      ]
     },
     "execution_count": 16,
     "metadata": {},
     "output_type": "execute_result"
    }
   ],
   "source": [
    "X_train2.iloc[0,:]"
   ]
  },
  {
   "cell_type": "code",
   "execution_count": 17,
   "metadata": {},
   "outputs": [
    {
     "data": {
      "text/plain": [
       "array([0.99855726])"
      ]
     },
     "execution_count": 17,
     "metadata": {},
     "output_type": "execute_result"
    }
   ],
   "source": [
    "gbrt2.predict_proba([X_train2.iloc[0,:]])[:,1]"
   ]
  }
 ],
 "metadata": {
  "kernelspec": {
   "display_name": "Python 3",
   "language": "python",
   "name": "python3"
  },
  "language_info": {
   "codemirror_mode": {
    "name": "ipython",
    "version": 3
   },
   "file_extension": ".py",
   "mimetype": "text/x-python",
   "name": "python",
   "nbconvert_exporter": "python",
   "pygments_lexer": "ipython3",
   "version": "3.6.4"
  }
 },
 "nbformat": 4,
 "nbformat_minor": 2
}
