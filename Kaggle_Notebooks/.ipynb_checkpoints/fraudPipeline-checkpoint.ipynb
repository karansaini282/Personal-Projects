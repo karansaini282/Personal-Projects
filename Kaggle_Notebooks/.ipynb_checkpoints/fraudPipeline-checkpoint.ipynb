{
 "cells": [
  {
   "cell_type": "code",
   "execution_count": 12,
   "metadata": {},
   "outputs": [],
   "source": [
    "import pandas as pd\n",
    "import numpy as np\n",
    "import re\n",
    "\n",
    "# machine learning\n",
    "from sklearn import svm, tree, linear_model, neighbors, naive_bayes, ensemble, discriminant_analysis, gaussian_process\n",
    "from xgboost import XGBClassifier\n",
    "from sklearn import model_selection\n",
    "from sklearn.pipeline import Pipeline, make_pipeline, make_union\n",
    "from sklearn.base import BaseEstimator, TransformerMixin\n",
    "from sklearn.pipeline import Pipeline, FeatureUnion\n",
    "from sklearn.preprocessing import LabelEncoder\n",
    "from sklearn2pmml import PMMLPipeline\n",
    "from sklearn2pmml import sklearn2pmml\n",
    "from sklearn_pandas import DataFrameMapper\n",
    "\n",
    "final_columns = ['cardCompany' ,'cardNetwork' ,'cardType' ,'transAmount' ,'transChannel' ,'transCurrency' ,'cardExpDate']\n",
    "\n",
    "train_df = pd.read_json('../input/transactions_data.txt',lines=True)\n",
    "train_df['fraud'] = train_df['fraud'].map({False:0,True:1})\n",
    "train_df.loc[train_df.query('fraud == 0').sample(frac=.1).index,'fraud'] = 1\n",
    "x=train_df.loc[:,train_df.columns!='fraud']\n",
    "y=train_df.loc[:,'fraud']\n",
    "\n",
    "class CustomFilter(BaseEstimator,TransformerMixin):\n",
    "    def __init__(self, col_list):\n",
    "        self.col_list = col_list\n",
    "        \n",
    "    def transAmountNames(self,name):\n",
    "        if name <= 0.796:\n",
    "            return 0\n",
    "        elif (name > 0.796) & (name <= 1812.738):\n",
    "            return 1\n",
    "        elif (name > 1812.738) & (name <= 2925.726):\n",
    "            return 2\n",
    "        else:\n",
    "            return 3\n",
    "\n",
    "    def companyNames(self,name):\n",
    "        p1 = re.compile('[a-zA-Z]+-[a-zA-Z]+')\n",
    "        p2 = re.compile('[a-zA-Z]+, [a-zA-Z]+ and [a-zA-Z]+')\n",
    "        p3 = re.compile('[a-zA-Z]+ Inc')\n",
    "        p4 = re.compile('[a-zA-Z]+ Group')\n",
    "        p5 = re.compile('[a-zA-Z]+ LLC')\n",
    "        p6 = re.compile('[a-zA-Z]+ and Sons')\n",
    "        if p1.match(name):\n",
    "            return name.split('-')[0]    \n",
    "        elif p2.match(name):\n",
    "            return name.split(',')[0]\n",
    "        elif p3.match(name) or p4.match(name) or p5.match(name) or p6.match(name):\n",
    "            return name.split(' ')[0]\n",
    "        else:\n",
    "            return name\n",
    "\n",
    "    def getCardExpYear(self,date):\n",
    "        return date.split('/')[1]        \n",
    "\n",
    "    def transform(self, X, **transform_params):\n",
    "        result = []\n",
    "        for index, rowdata in X.iterrows():\n",
    "            rowdict = {}\n",
    "            for col in self.col_list:\n",
    "                if col==\"cardCompany\":\n",
    "                    rowdict.update( {col: self.companyNames(rowdata[col]) } )\n",
    "                elif col ==\"cardExpDate\":\n",
    "                    rowdict.update( {\"cardExpYear\": self.getCardExpYear(rowdata[col]) } )\n",
    "                elif col ==\"transAmount\":\n",
    "                    rowdict.update( {col: self.transAmountNames(rowdata[col]) } )                    \n",
    "                else:\n",
    "                    rowdict.update( {col: rowdata[col] } )\n",
    "            result.append(rowdict)        \n",
    "        return pd.DataFrame(result)\n",
    "    \n",
    "    def fit(self, X, y=None, **fitparams):\n",
    "        return self\n",
    "    \n",
    "class MyLabelEncoder(TransformerMixin):\n",
    "    def __init__(self):\n",
    "        self.encoder = LabelEncoder()\n",
    "    def fit(self, x, y=0):\n",
    "        return self\n",
    "    def transform(self, x, y=0):\n",
    "        return x.apply(self.encoder.fit_transform)    \n",
    " \n",
    "column_preprocessor = DataFrameMapper([\n",
    "    (\"cardType\",LabelEncoder()),\n",
    "    (\"cardNetwork\",LabelEncoder()),\n",
    "    (\"transChannel\",LabelEncoder()),\n",
    "    (\"transCurrency\",LabelEncoder())\n",
    "])\n",
    "\n",
    "#D = pd.DataFrame([['Runolfsson-Runolfsson','visa','credit',2019.212078,'MOBILE','pound','06/20'],['KR-KR','visa','credit',2019.212078,'MOBILE','pound','06/20']], columns = ['cardCompany','cardNetwork','cardType','transAmount','transChannel','transCurrency','cardExpDate']);    \n",
    "#PMMLPipeline([(\"input_filter\",CustomFilter(final_columns)),(\"label_encoder\",MyLabelEncoder())]).transform(D)\n",
    "model1 = PMMLPipeline([(\"input_filter\",column_preprocessor),(\"rfc\",ensemble.RandomForestClassifier(n_estimators=50, criterion='gini', max_depth=3))])"
   ]
  },
  {
   "cell_type": "code",
   "execution_count": 13,
   "metadata": {},
   "outputs": [
    {
     "data": {
      "text/plain": [
       "PMMLPipeline(steps=[('input_filter', DataFrameMapper(default=False, df_out=False,\n",
       "        features=[('cardType', LabelEncoder()), ('cardNetwork', LabelEncoder()), ('transChannel', LabelEncoder()), ('transCurrency', LabelEncoder())],\n",
       "        input_df=False, sparse=False)),\n",
       "       ('rfc', RandomForestClassifier(bootstrap=True, class_weight=None, criterion='gini',\n",
       "            max_depth=3, max_features='auto', max_leaf_nodes=None,\n",
       "            min_impurity_decrease=0.0, min_impurity_split=None,\n",
       "            min_samples_leaf=1, min_samples_split=2,\n",
       "            min_weight_fraction_leaf=0.0, n_estimators=50, n_jobs=1,\n",
       "            oob_score=False, random_state=None, verbose=0,\n",
       "            warm_start=False))])"
      ]
     },
     "execution_count": 13,
     "metadata": {},
     "output_type": "execute_result"
    }
   ],
   "source": [
    "model1.fit(x,y)"
   ]
  },
  {
   "cell_type": "code",
   "execution_count": 14,
   "metadata": {},
   "outputs": [
    {
     "data": {
      "text/plain": [
       "array([[0.89945419, 0.10054581],\n",
       "       [0.90158163, 0.09841837]])"
      ]
     },
     "execution_count": 14,
     "metadata": {},
     "output_type": "execute_result"
    }
   ],
   "source": [
    "model1.predict_proba(pd.DataFrame([['Runolfsson-Runolfsson','visa','credit',2019.212078,'MOBILE','yen','06/20'],['KR-KR','visa','credit',2019.212078,'MOBILE','pound','06/20']], columns = ['cardCompany','cardNetwork','cardType','transAmount','transChannel','transCurrency','cardExpDate']))"
   ]
  },
  {
   "cell_type": "code",
   "execution_count": 16,
   "metadata": {},
   "outputs": [],
   "source": [
    "sklearn2pmml(model1, \"D:/rfc1.pmml\")"
   ]
  }
 ],
 "metadata": {
  "kernelspec": {
   "display_name": "Python 3",
   "language": "python",
   "name": "python3"
  },
  "language_info": {
   "codemirror_mode": {
    "name": "ipython",
    "version": 3
   },
   "file_extension": ".py",
   "mimetype": "text/x-python",
   "name": "python",
   "nbconvert_exporter": "python",
   "pygments_lexer": "ipython3",
   "version": "3.6.4"
  }
 },
 "nbformat": 4,
 "nbformat_minor": 2
}
