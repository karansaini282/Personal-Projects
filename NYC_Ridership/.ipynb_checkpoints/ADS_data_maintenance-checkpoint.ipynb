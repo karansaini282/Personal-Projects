{
 "cells": [
  {
   "cell_type": "code",
   "execution_count": 2,
   "metadata": {},
   "outputs": [],
   "source": [
    "import urllib\n",
    "from bs4 import BeautifulSoup\n",
    "from selenium import webdriver\n",
    "from selenium.webdriver.common.keys import Keys\n",
    "import re\n",
    "import pandas as pd\n",
    "\n",
    "from_date = \"10/25/2018\"\n",
    "to_date = \"10/26/2018\""
   ]
  },
  {
   "cell_type": "code",
   "execution_count": 3,
   "metadata": {},
   "outputs": [],
   "source": [
    "URL = \"https://www.mymtaalerts.com/messagearchive.aspx\""
   ]
  },
  {
   "cell_type": "code",
   "execution_count": 4,
   "metadata": {},
   "outputs": [],
   "source": [
    "driver = webdriver.Chrome(r\"C:\\Users\\student\\Downloads\\chromedriver.exe\")\n",
    "driver.implicitly_wait(1)\n",
    "driver.get(URL)"
   ]
  },
  {
   "cell_type": "code",
   "execution_count": 218,
   "metadata": {},
   "outputs": [],
   "source": [
    "date_from = driver.find_element_by_id('ctl00_ContentPlaceHolder1_RadDatePickerStart_dateInput')\n",
    "date_from.clear()\n",
    "date_from.send_keys(from_date)"
   ]
  },
  {
   "cell_type": "code",
   "execution_count": null,
   "metadata": {},
   "outputs": [],
   "source": [
    "date_to = driver.find_element_by_id('ctl00_ContentPlaceHolder1_RadDatePickerEnd_dateInput')\n",
    "date_to.clear()\n",
    "date_to.send_keys(to_date)"
   ]
  },
  {
   "cell_type": "code",
   "execution_count": 220,
   "metadata": {},
   "outputs": [],
   "source": [
    "driver.find_element_by_id('ctl00_ContentPlaceHolder1_btnGetData').click()"
   ]
  },
  {
   "cell_type": "code",
   "execution_count": 221,
   "metadata": {},
   "outputs": [],
   "source": [
    "soup_level2=BeautifulSoup(driver.page_source, 'html.parser')"
   ]
  },
  {
   "cell_type": "code",
   "execution_count": 222,
   "metadata": {},
   "outputs": [],
   "source": [
    "page_box = soup_level2.find_all(\"div\", attrs={\"class\": \"rgWrap rgInfoPart\"})"
   ]
  },
  {
   "cell_type": "code",
   "execution_count": 223,
   "metadata": {},
   "outputs": [
    {
     "name": "stdout",
     "output_type": "stream",
     "text": [
      "25\n"
     ]
    }
   ],
   "source": [
    "pages = int(page_box[0].find_all(\"strong\")[1].text)\n",
    "print(pages)"
   ]
  },
  {
   "cell_type": "code",
   "execution_count": 224,
   "metadata": {},
   "outputs": [],
   "source": [
    "rows_box = soup_level2.find_all(\"tr\", attrs={\"class\": \"rgRow\"})"
   ]
  },
  {
   "cell_type": "code",
   "execution_count": 225,
   "metadata": {},
   "outputs": [],
   "source": [
    "data = pd.DataFrame(columns=[\"description\"])"
   ]
  },
  {
   "cell_type": "code",
   "execution_count": 226,
   "metadata": {},
   "outputs": [
    {
     "name": "stdout",
     "output_type": "stream",
     "text": [
      "N Line - Weekday and Weekend Planned Service Changes\n",
      "L Line - Weekday and Weeknight Planned Service Changes\n",
      "F Line - Weekday and Weekend Planned Service Changes\n",
      "B Line - Weekday and Weeknight Planned Service Changes\n",
      "6 Line - Weekday and Weekend Planned Service Change\n",
      "4 Line - Weekday and Weekend Planned Service Changes\n",
      "3 Line - Weeknight and Weekend Planned Service Changes\n",
      "2 Line - Weeknight Planned Service Change\n",
      "1 Line - Weeknight and Weekend Planned Service Changes\n",
      "Weekday Planned Service Change\n"
     ]
    }
   ],
   "source": [
    "for i in range(pages):\n",
    "    for row in rows_box:\n",
    "        tds = row.find_all(\"td\")\n",
    "        if tds[1].text == \"NYC\":\n",
    "            if re.search(\"Planned Service Change*\",tds[2].text) and not(re.search(\"UPDATE\",tds[2].text)) and not(re.search(\"CANCELLATION\",tds[2].text)):\n",
    "                print(tds[2].text)\n",
    "                data = pd.concat([data,pd.DataFrame({'description':[re.sub(\"\\n\",\" \",tds[3].text)]})],ignore_index=True)\n",
    "    if i < pages-1:\n",
    "        next_page = driver.find_element_by_class_name('rgPageNext')\n",
    "        next_page.click()\n",
    "        soup_level2=BeautifulSoup(driver.page_source, 'html.parser')\n",
    "        rows_box = soup_level2.find_all(\"tr\", attrs={\"class\": \"rgRow\"})"
   ]
  },
  {
   "cell_type": "code",
   "execution_count": 227,
   "metadata": {},
   "outputs": [
    {
     "data": {
      "text/html": [
       "<div>\n",
       "<style scoped>\n",
       "    .dataframe tbody tr th:only-of-type {\n",
       "        vertical-align: middle;\n",
       "    }\n",
       "\n",
       "    .dataframe tbody tr th {\n",
       "        vertical-align: top;\n",
       "    }\n",
       "\n",
       "    .dataframe thead th {\n",
       "        text-align: right;\n",
       "    }\n",
       "</style>\n",
       "<table border=\"1\" class=\"dataframe\">\n",
       "  <thead>\n",
       "    <tr style=\"text-align: right;\">\n",
       "      <th></th>\n",
       "      <th>description</th>\n",
       "    </tr>\n",
       "  </thead>\n",
       "  <tbody>\n",
       "    <tr>\n",
       "      <th>0</th>\n",
       "      <td>NIGHTS Oct 29 - Nov 2, 9:45 PM to 5 AM, Mon to...</td>\n",
       "    </tr>\n",
       "    <tr>\n",
       "      <th>1</th>\n",
       "      <td>NIGHTS Oct 29 - Nov 2, approx. 10:45 PM to 5 A...</td>\n",
       "    </tr>\n",
       "    <tr>\n",
       "      <th>2</th>\n",
       "      <td>All times until December 2018 F trains skip 23...</td>\n",
       "    </tr>\n",
       "    <tr>\n",
       "      <th>3</th>\n",
       "      <td>NIGHTS Oct 29 - Nov 1, beginning 8:30 PM, Mon ...</td>\n",
       "    </tr>\n",
       "    <tr>\n",
       "      <th>4</th>\n",
       "      <td>All times until December 2018 6 service skips ...</td>\n",
       "    </tr>\n",
       "  </tbody>\n",
       "</table>\n",
       "</div>"
      ],
      "text/plain": [
       "                                         description\n",
       "0  NIGHTS Oct 29 - Nov 2, 9:45 PM to 5 AM, Mon to...\n",
       "1  NIGHTS Oct 29 - Nov 2, approx. 10:45 PM to 5 A...\n",
       "2  All times until December 2018 F trains skip 23...\n",
       "3  NIGHTS Oct 29 - Nov 1, beginning 8:30 PM, Mon ...\n",
       "4  All times until December 2018 6 service skips ..."
      ]
     },
     "execution_count": 227,
     "metadata": {},
     "output_type": "execute_result"
    }
   ],
   "source": [
    "data.head()"
   ]
  },
  {
   "cell_type": "code",
   "execution_count": 228,
   "metadata": {},
   "outputs": [],
   "source": [
    "data.to_csv(\"MTA_Maintenance.csv\")"
   ]
  },
  {
   "cell_type": "code",
   "execution_count": null,
   "metadata": {},
   "outputs": [],
   "source": []
  }
 ],
 "metadata": {
  "kernelspec": {
   "display_name": "Python 3",
   "language": "python",
   "name": "python3"
  },
  "language_info": {
   "codemirror_mode": {
    "name": "ipython",
    "version": 3
   },
   "file_extension": ".py",
   "mimetype": "text/x-python",
   "name": "python",
   "nbconvert_exporter": "python",
   "pygments_lexer": "ipython3",
   "version": "3.6.4"
  }
 },
 "nbformat": 4,
 "nbformat_minor": 2
}
