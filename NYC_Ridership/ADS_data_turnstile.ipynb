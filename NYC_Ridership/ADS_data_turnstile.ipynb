{
 "cells": [
  {
   "cell_type": "code",
   "execution_count": 12,
   "metadata": {},
   "outputs": [],
   "source": [
    "import urllib\n",
    "from bs4 import BeautifulSoup\n",
    "from selenium import webdriver\n",
    "from selenium.webdriver.common.keys import Keys\n",
    "import re\n",
    "import pandas as pd\n",
    "\n",
    "from_year = 16\n",
    "from_month = 12\n",
    "to_year = 16\n",
    "to_month = 11\n",
    "\n",
    "links = []"
   ]
  },
  {
   "cell_type": "code",
   "execution_count": 13,
   "metadata": {},
   "outputs": [],
   "source": [
    "URL = \"http://web.mta.info/developers/turnstile.html\""
   ]
  },
  {
   "cell_type": "code",
   "execution_count": 14,
   "metadata": {},
   "outputs": [],
   "source": [
    "driver = webdriver.Chrome(r\"C:\\Users\\student\\Downloads\\chromedriver.exe\")\n",
    "driver.implicitly_wait(1)\n",
    "driver.get(URL)"
   ]
  },
  {
   "cell_type": "code",
   "execution_count": 15,
   "metadata": {},
   "outputs": [],
   "source": [
    "soup = BeautifulSoup(driver.page_source, 'html.parser')\n",
    "link_box = soup.find_all(\"div\", attrs={\"class\": \"span-84 last\"})"
   ]
  },
  {
   "cell_type": "code",
   "execution_count": 16,
   "metadata": {},
   "outputs": [],
   "source": [
    "for link in link_box[0].find_all(\"a\"):\n",
    "    year = int(link.get('href').split('_')[1][0:2])\n",
    "    month = int(link.get('href').split('_')[1][2:4])\n",
    "    if(year >= to_year and year <= from_year):\n",
    "        if(year == from_year and month > from_month):\n",
    "            continue\n",
    "        if(year == to_year and month < to_month):\n",
    "            continue\n",
    "        data_link = \"http://web.mta.info/developers/\" + link.get('href')\n",
    "        links += [data_link]\n",
    "    "
   ]
  },
  {
   "cell_type": "code",
   "execution_count": 17,
   "metadata": {},
   "outputs": [
    {
     "data": {
      "text/plain": [
       "['http://web.mta.info/developers/data/nyct/turnstile/turnstile_161231.txt',\n",
       " 'http://web.mta.info/developers/data/nyct/turnstile/turnstile_161224.txt',\n",
       " 'http://web.mta.info/developers/data/nyct/turnstile/turnstile_161217.txt',\n",
       " 'http://web.mta.info/developers/data/nyct/turnstile/turnstile_161210.txt',\n",
       " 'http://web.mta.info/developers/data/nyct/turnstile/turnstile_161203.txt',\n",
       " 'http://web.mta.info/developers/data/nyct/turnstile/turnstile_161126.txt',\n",
       " 'http://web.mta.info/developers/data/nyct/turnstile/turnstile_161119.txt',\n",
       " 'http://web.mta.info/developers/data/nyct/turnstile/turnstile_161112.txt',\n",
       " 'http://web.mta.info/developers/data/nyct/turnstile/turnstile_161105.txt']"
      ]
     },
     "execution_count": 17,
     "metadata": {},
     "output_type": "execute_result"
    }
   ],
   "source": [
    "links"
   ]
  },
  {
   "cell_type": "code",
   "execution_count": 18,
   "metadata": {},
   "outputs": [],
   "source": [
    "df = pd.DataFrame()"
   ]
  },
  {
   "cell_type": "code",
   "execution_count": 19,
   "metadata": {},
   "outputs": [],
   "source": [
    "for link in links:\n",
    "    df = pd.concat([df,pd.read_csv(link)])"
   ]
  },
  {
   "cell_type": "code",
   "execution_count": 20,
   "metadata": {},
   "outputs": [
    {
     "data": {
      "text/html": [
       "<div>\n",
       "<style scoped>\n",
       "    .dataframe tbody tr th:only-of-type {\n",
       "        vertical-align: middle;\n",
       "    }\n",
       "\n",
       "    .dataframe tbody tr th {\n",
       "        vertical-align: top;\n",
       "    }\n",
       "\n",
       "    .dataframe thead th {\n",
       "        text-align: right;\n",
       "    }\n",
       "</style>\n",
       "<table border=\"1\" class=\"dataframe\">\n",
       "  <thead>\n",
       "    <tr style=\"text-align: right;\">\n",
       "      <th></th>\n",
       "      <th>ENTRIES</th>\n",
       "      <th>EXITS</th>\n",
       "    </tr>\n",
       "  </thead>\n",
       "  <tbody>\n",
       "    <tr>\n",
       "      <th>count</th>\n",
       "      <td>1.735899e+06</td>\n",
       "      <td>1.735899e+06</td>\n",
       "    </tr>\n",
       "    <tr>\n",
       "      <th>mean</th>\n",
       "      <td>3.584918e+07</td>\n",
       "      <td>2.895776e+07</td>\n",
       "    </tr>\n",
       "    <tr>\n",
       "      <th>std</th>\n",
       "      <td>1.954387e+08</td>\n",
       "      <td>1.773495e+08</td>\n",
       "    </tr>\n",
       "    <tr>\n",
       "      <th>min</th>\n",
       "      <td>0.000000e+00</td>\n",
       "      <td>0.000000e+00</td>\n",
       "    </tr>\n",
       "    <tr>\n",
       "      <th>25%</th>\n",
       "      <td>5.618460e+05</td>\n",
       "      <td>2.914910e+05</td>\n",
       "    </tr>\n",
       "    <tr>\n",
       "      <th>50%</th>\n",
       "      <td>2.668881e+06</td>\n",
       "      <td>1.550028e+06</td>\n",
       "    </tr>\n",
       "    <tr>\n",
       "      <th>75%</th>\n",
       "      <td>6.698218e+06</td>\n",
       "      <td>4.748548e+06</td>\n",
       "    </tr>\n",
       "    <tr>\n",
       "      <th>max</th>\n",
       "      <td>2.114946e+09</td>\n",
       "      <td>2.087387e+09</td>\n",
       "    </tr>\n",
       "  </tbody>\n",
       "</table>\n",
       "</div>"
      ],
      "text/plain": [
       "            ENTRIES  \\\n",
       "count  1.735899e+06   \n",
       "mean   3.584918e+07   \n",
       "std    1.954387e+08   \n",
       "min    0.000000e+00   \n",
       "25%    5.618460e+05   \n",
       "50%    2.668881e+06   \n",
       "75%    6.698218e+06   \n",
       "max    2.114946e+09   \n",
       "\n",
       "       EXITS                                                                 \n",
       "count                                       1.735899e+06                     \n",
       "mean                                        2.895776e+07                     \n",
       "std                                         1.773495e+08                     \n",
       "min                                         0.000000e+00                     \n",
       "25%                                         2.914910e+05                     \n",
       "50%                                         1.550028e+06                     \n",
       "75%                                         4.748548e+06                     \n",
       "max                                         2.087387e+09                     "
      ]
     },
     "execution_count": 20,
     "metadata": {},
     "output_type": "execute_result"
    }
   ],
   "source": [
    "df.describe()"
   ]
  },
  {
   "cell_type": "code",
   "execution_count": 21,
   "metadata": {},
   "outputs": [],
   "source": [
    "df.to_csv(\"MTA_Turnstile_2016.csv\")"
   ]
  },
  {
   "cell_type": "code",
   "execution_count": 22,
   "metadata": {},
   "outputs": [
    {
     "data": {
      "text/html": [
       "<div>\n",
       "<style scoped>\n",
       "    .dataframe tbody tr th:only-of-type {\n",
       "        vertical-align: middle;\n",
       "    }\n",
       "\n",
       "    .dataframe tbody tr th {\n",
       "        vertical-align: top;\n",
       "    }\n",
       "\n",
       "    .dataframe thead th {\n",
       "        text-align: right;\n",
       "    }\n",
       "</style>\n",
       "<table border=\"1\" class=\"dataframe\">\n",
       "  <thead>\n",
       "    <tr style=\"text-align: right;\">\n",
       "      <th></th>\n",
       "      <th>C/A</th>\n",
       "      <th>UNIT</th>\n",
       "      <th>SCP</th>\n",
       "      <th>STATION</th>\n",
       "      <th>LINENAME</th>\n",
       "      <th>DIVISION</th>\n",
       "      <th>DATE</th>\n",
       "      <th>TIME</th>\n",
       "      <th>DESC</th>\n",
       "      <th>ENTRIES</th>\n",
       "      <th>EXITS</th>\n",
       "    </tr>\n",
       "  </thead>\n",
       "  <tbody>\n",
       "    <tr>\n",
       "      <th>0</th>\n",
       "      <td>A002</td>\n",
       "      <td>R051</td>\n",
       "      <td>02-00-00</td>\n",
       "      <td>59 ST</td>\n",
       "      <td>NQR456W</td>\n",
       "      <td>BMT</td>\n",
       "      <td>12/24/2016</td>\n",
       "      <td>03:00:00</td>\n",
       "      <td>REGULAR</td>\n",
       "      <td>5980509</td>\n",
       "      <td>2025806</td>\n",
       "    </tr>\n",
       "    <tr>\n",
       "      <th>1</th>\n",
       "      <td>A002</td>\n",
       "      <td>R051</td>\n",
       "      <td>02-00-00</td>\n",
       "      <td>59 ST</td>\n",
       "      <td>NQR456W</td>\n",
       "      <td>BMT</td>\n",
       "      <td>12/24/2016</td>\n",
       "      <td>07:00:00</td>\n",
       "      <td>REGULAR</td>\n",
       "      <td>5980531</td>\n",
       "      <td>2025818</td>\n",
       "    </tr>\n",
       "    <tr>\n",
       "      <th>2</th>\n",
       "      <td>A002</td>\n",
       "      <td>R051</td>\n",
       "      <td>02-00-00</td>\n",
       "      <td>59 ST</td>\n",
       "      <td>NQR456W</td>\n",
       "      <td>BMT</td>\n",
       "      <td>12/24/2016</td>\n",
       "      <td>11:00:00</td>\n",
       "      <td>REGULAR</td>\n",
       "      <td>5980613</td>\n",
       "      <td>2025912</td>\n",
       "    </tr>\n",
       "    <tr>\n",
       "      <th>3</th>\n",
       "      <td>A002</td>\n",
       "      <td>R051</td>\n",
       "      <td>02-00-00</td>\n",
       "      <td>59 ST</td>\n",
       "      <td>NQR456W</td>\n",
       "      <td>BMT</td>\n",
       "      <td>12/24/2016</td>\n",
       "      <td>15:00:00</td>\n",
       "      <td>REGULAR</td>\n",
       "      <td>5980899</td>\n",
       "      <td>2025965</td>\n",
       "    </tr>\n",
       "    <tr>\n",
       "      <th>4</th>\n",
       "      <td>A002</td>\n",
       "      <td>R051</td>\n",
       "      <td>02-00-00</td>\n",
       "      <td>59 ST</td>\n",
       "      <td>NQR456W</td>\n",
       "      <td>BMT</td>\n",
       "      <td>12/24/2016</td>\n",
       "      <td>19:00:00</td>\n",
       "      <td>REGULAR</td>\n",
       "      <td>5981382</td>\n",
       "      <td>2026001</td>\n",
       "    </tr>\n",
       "  </tbody>\n",
       "</table>\n",
       "</div>"
      ],
      "text/plain": [
       "    C/A  UNIT       SCP STATION LINENAME DIVISION        DATE      TIME  \\\n",
       "0  A002  R051  02-00-00   59 ST  NQR456W      BMT  12/24/2016  03:00:00   \n",
       "1  A002  R051  02-00-00   59 ST  NQR456W      BMT  12/24/2016  07:00:00   \n",
       "2  A002  R051  02-00-00   59 ST  NQR456W      BMT  12/24/2016  11:00:00   \n",
       "3  A002  R051  02-00-00   59 ST  NQR456W      BMT  12/24/2016  15:00:00   \n",
       "4  A002  R051  02-00-00   59 ST  NQR456W      BMT  12/24/2016  19:00:00   \n",
       "\n",
       "      DESC  ENTRIES  \\\n",
       "0  REGULAR  5980509   \n",
       "1  REGULAR  5980531   \n",
       "2  REGULAR  5980613   \n",
       "3  REGULAR  5980899   \n",
       "4  REGULAR  5981382   \n",
       "\n",
       "   EXITS                                                                 \n",
       "0                                            2025806                     \n",
       "1                                            2025818                     \n",
       "2                                            2025912                     \n",
       "3                                            2025965                     \n",
       "4                                            2026001                     "
      ]
     },
     "execution_count": 22,
     "metadata": {},
     "output_type": "execute_result"
    }
   ],
   "source": [
    "df.head()"
   ]
  }
 ],
 "metadata": {
  "kernelspec": {
   "display_name": "Python 3",
   "language": "python",
   "name": "python3"
  },
  "language_info": {
   "codemirror_mode": {
    "name": "ipython",
    "version": 3
   },
   "file_extension": ".py",
   "mimetype": "text/x-python",
   "name": "python",
   "nbconvert_exporter": "python",
   "pygments_lexer": "ipython3",
   "version": "3.6.4"
  }
 },
 "nbformat": 4,
 "nbformat_minor": 2
}
